{
 "cells": [
  {
   "cell_type": "markdown",
   "metadata": {},
   "source": [
    "# Taller 10 - Twitter"
   ]
  },
  {
   "cell_type": "code",
   "execution_count": 201,
   "metadata": {},
   "outputs": [],
   "source": [
    "import pandas as pd\n",
    "import tweepy\n",
    "\n",
    "import re\n",
    "from pprint import pprint\n",
    "\n",
    "from nltk.corpus import stopwords\n",
    "stopwords = stopwords.words('spanish')"
   ]
  },
  {
   "cell_type": "code",
   "execution_count": 178,
   "metadata": {},
   "outputs": [],
   "source": [
    "keys = pd.read_csv(\"C:/Users/Nadia/Documents/Especialización/NLP/Clases y Talleres/Claves_NLP_Twitter.txt\", header=None)\n"
   ]
  },
  {
   "cell_type": "code",
   "execution_count": 181,
   "metadata": {},
   "outputs": [],
   "source": [
    "# Autorizar a través API\n",
    "logueo = tweepy.OAuthHandler(keys['api_key'], keys['api_key_secret'])\n",
    "logueo.set_access_token(keys['access_token'], keys['access_token_secret'])\n",
    "api = tweepy.API(logueo, wait_on_rate_limit=True)"
   ]
  },
  {
   "cell_type": "markdown",
   "metadata": {},
   "source": [
    "Recolectar Información"
   ]
  },
  {
   "cell_type": "code",
   "execution_count": 182,
   "metadata": {},
   "outputs": [],
   "source": [
    "tweets = tweepy.Cursor(api.search,\n",
    "                       q=['netflix -RT'],\n",
    "                       lang='es',\n",
    "                       geocode=f'4.649178,-74.062827,45mi',\n",
    "                       tweet_mode='extended',\n",
    "                       include_rts=False).items(300)"
   ]
  },
  {
   "cell_type": "code",
   "execution_count": 183,
   "metadata": {},
   "outputs": [
    {
     "name": "stdout",
     "output_type": "stream",
     "text": [
      "Status(_api=<tweepy.api.API object at 0x000001FE8D98DCC8>, _json={'created_at': 'Sat Nov 14 12:07:50 +0000 2020', 'id': 1327584021946175489, 'id_str': '1327584021946175489', 'full_text': 'Tío Netflix esta sobreactuando con las películas de navidad', 'truncated': False, 'display_text_range': [0, 59], 'entities': {'hashtags': [], 'symbols': [], 'user_mentions': [], 'urls': []}, 'metadata': {'iso_language_code': 'es', 'result_type': 'recent'}, 'source': '<a href=\"http://twitter.com/download/android\" rel=\"nofollow\">Twitter for Android</a>', 'in_reply_to_status_id': None, 'in_reply_to_status_id_str': None, 'in_reply_to_user_id': None, 'in_reply_to_user_id_str': None, 'in_reply_to_screen_name': None, 'user': {'id': 794500592785825793, 'id_str': '794500592785825793', 'name': 'Erika Prada', 'screen_name': 'Eri_pl', 'location': 'Pereira, Colombia', 'description': 'Volví, y ahora que hago?', 'url': None, 'entities': {'description': {'urls': []}}, 'protected': False, 'followers_count': 75, 'friends_count': 102, 'listed_count': 0, 'created_at': 'Fri Nov 04 11:24:37 +0000 2016', 'favourites_count': 8809, 'utc_offset': None, 'time_zone': None, 'geo_enabled': True, 'verified': False, 'statuses_count': 5704, 'lang': None, 'contributors_enabled': False, 'is_translator': False, 'is_translation_enabled': False, 'profile_background_color': 'F5F8FA', 'profile_background_image_url': None, 'profile_background_image_url_https': None, 'profile_background_tile': False, 'profile_image_url': 'http://pbs.twimg.com/profile_images/1323460052943065089/mt-_ifje_normal.jpg', 'profile_image_url_https': 'https://pbs.twimg.com/profile_images/1323460052943065089/mt-_ifje_normal.jpg', 'profile_banner_url': 'https://pbs.twimg.com/profile_banners/794500592785825793/1604372439', 'profile_link_color': '1DA1F2', 'profile_sidebar_border_color': 'C0DEED', 'profile_sidebar_fill_color': 'DDEEF6', 'profile_text_color': '333333', 'profile_use_background_image': True, 'has_extended_profile': True, 'default_profile': True, 'default_profile_image': False, 'following': False, 'follow_request_sent': False, 'notifications': False, 'translator_type': 'none'}, 'geo': None, 'coordinates': None, 'place': None, 'contributors': None, 'is_quote_status': False, 'retweet_count': 0, 'favorite_count': 0, 'favorited': False, 'retweeted': False, 'lang': 'es'}, created_at=datetime.datetime(2020, 11, 14, 12, 7, 50), id=1327584021946175489, id_str='1327584021946175489', full_text='Tío Netflix esta sobreactuando con las películas de navidad', truncated=False, display_text_range=[0, 59], entities={'hashtags': [], 'symbols': [], 'user_mentions': [], 'urls': []}, metadata={'iso_language_code': 'es', 'result_type': 'recent'}, source='Twitter for Android', source_url='http://twitter.com/download/android', in_reply_to_status_id=None, in_reply_to_status_id_str=None, in_reply_to_user_id=None, in_reply_to_user_id_str=None, in_reply_to_screen_name=None, author=User(_api=<tweepy.api.API object at 0x000001FE8D98DCC8>, _json={'id': 794500592785825793, 'id_str': '794500592785825793', 'name': 'Erika Prada', 'screen_name': 'Eri_pl', 'location': 'Pereira, Colombia', 'description': 'Volví, y ahora que hago?', 'url': None, 'entities': {'description': {'urls': []}}, 'protected': False, 'followers_count': 75, 'friends_count': 102, 'listed_count': 0, 'created_at': 'Fri Nov 04 11:24:37 +0000 2016', 'favourites_count': 8809, 'utc_offset': None, 'time_zone': None, 'geo_enabled': True, 'verified': False, 'statuses_count': 5704, 'lang': None, 'contributors_enabled': False, 'is_translator': False, 'is_translation_enabled': False, 'profile_background_color': 'F5F8FA', 'profile_background_image_url': None, 'profile_background_image_url_https': None, 'profile_background_tile': False, 'profile_image_url': 'http://pbs.twimg.com/profile_images/1323460052943065089/mt-_ifje_normal.jpg', 'profile_image_url_https': 'https://pbs.twimg.com/profile_images/1323460052943065089/mt-_ifje_normal.jpg', 'profile_banner_url': 'https://pbs.twimg.com/profile_banners/794500592785825793/1604372439', 'profile_link_color': '1DA1F2', 'profile_sidebar_border_color': 'C0DEED', 'profile_sidebar_fill_color': 'DDEEF6', 'profile_text_color': '333333', 'profile_use_background_image': True, 'has_extended_profile': True, 'default_profile': True, 'default_profile_image': False, 'following': False, 'follow_request_sent': False, 'notifications': False, 'translator_type': 'none'}, id=794500592785825793, id_str='794500592785825793', name='Erika Prada', screen_name='Eri_pl', location='Pereira, Colombia', description='Volví, y ahora que hago?', url=None, entities={'description': {'urls': []}}, protected=False, followers_count=75, friends_count=102, listed_count=0, created_at=datetime.datetime(2016, 11, 4, 11, 24, 37), favourites_count=8809, utc_offset=None, time_zone=None, geo_enabled=True, verified=False, statuses_count=5704, lang=None, contributors_enabled=False, is_translator=False, is_translation_enabled=False, profile_background_color='F5F8FA', profile_background_image_url=None, profile_background_image_url_https=None, profile_background_tile=False, profile_image_url='http://pbs.twimg.com/profile_images/1323460052943065089/mt-_ifje_normal.jpg', profile_image_url_https='https://pbs.twimg.com/profile_images/1323460052943065089/mt-_ifje_normal.jpg', profile_banner_url='https://pbs.twimg.com/profile_banners/794500592785825793/1604372439', profile_link_color='1DA1F2', profile_sidebar_border_color='C0DEED', profile_sidebar_fill_color='DDEEF6', profile_text_color='333333', profile_use_background_image=True, has_extended_profile=True, default_profile=True, default_profile_image=False, following=False, follow_request_sent=False, notifications=False, translator_type='none'), user=User(_api=<tweepy.api.API object at 0x000001FE8D98DCC8>, _json={'id': 794500592785825793, 'id_str': '794500592785825793', 'name': 'Erika Prada', 'screen_name': 'Eri_pl', 'location': 'Pereira, Colombia', 'description': 'Volví, y ahora que hago?', 'url': None, 'entities': {'description': {'urls': []}}, 'protected': False, 'followers_count': 75, 'friends_count': 102, 'listed_count': 0, 'created_at': 'Fri Nov 04 11:24:37 +0000 2016', 'favourites_count': 8809, 'utc_offset': None, 'time_zone': None, 'geo_enabled': True, 'verified': False, 'statuses_count': 5704, 'lang': None, 'contributors_enabled': False, 'is_translator': False, 'is_translation_enabled': False, 'profile_background_color': 'F5F8FA', 'profile_background_image_url': None, 'profile_background_image_url_https': None, 'profile_background_tile': False, 'profile_image_url': 'http://pbs.twimg.com/profile_images/1323460052943065089/mt-_ifje_normal.jpg', 'profile_image_url_https': 'https://pbs.twimg.com/profile_images/1323460052943065089/mt-_ifje_normal.jpg', 'profile_banner_url': 'https://pbs.twimg.com/profile_banners/794500592785825793/1604372439', 'profile_link_color': '1DA1F2', 'profile_sidebar_border_color': 'C0DEED', 'profile_sidebar_fill_color': 'DDEEF6', 'profile_text_color': '333333', 'profile_use_background_image': True, 'has_extended_profile': True, 'default_profile': True, 'default_profile_image': False, 'following': False, 'follow_request_sent': False, 'notifications': False, 'translator_type': 'none'}, id=794500592785825793, id_str='794500592785825793', name='Erika Prada', screen_name='Eri_pl', location='Pereira, Colombia', description='Volví, y ahora que hago?', url=None, entities={'description': {'urls': []}}, protected=False, followers_count=75, friends_count=102, listed_count=0, created_at=datetime.datetime(2016, 11, 4, 11, 24, 37), favourites_count=8809, utc_offset=None, time_zone=None, geo_enabled=True, verified=False, statuses_count=5704, lang=None, contributors_enabled=False, is_translator=False, is_translation_enabled=False, profile_background_color='F5F8FA', profile_background_image_url=None, profile_background_image_url_https=None, profile_background_tile=False, profile_image_url='http://pbs.twimg.com/profile_images/1323460052943065089/mt-_ifje_normal.jpg', profile_image_url_https='https://pbs.twimg.com/profile_images/1323460052943065089/mt-_ifje_normal.jpg', profile_banner_url='https://pbs.twimg.com/profile_banners/794500592785825793/1604372439', profile_link_color='1DA1F2', profile_sidebar_border_color='C0DEED', profile_sidebar_fill_color='DDEEF6', profile_text_color='333333', profile_use_background_image=True, has_extended_profile=True, default_profile=True, default_profile_image=False, following=False, follow_request_sent=False, notifications=False, translator_type='none'), geo=None, coordinates=None, place=None, contributors=None, is_quote_status=False, retweet_count=0, favorite_count=0, favorited=False, retweeted=False, lang='es')\n"
     ]
    }
   ],
   "source": [
    "for t in tweets:\n",
    "    print (t)\n",
    "    break"
   ]
  },
  {
   "cell_type": "code",
   "execution_count": 184,
   "metadata": {},
   "outputs": [
    {
     "data": {
      "text/plain": [
       "{'created_at': 'Sat Nov 14 12:07:50 +0000 2020',\n",
       " 'id': 1327584021946175489,\n",
       " 'id_str': '1327584021946175489',\n",
       " 'full_text': 'Tío Netflix esta sobreactuando con las películas de navidad',\n",
       " 'truncated': False,\n",
       " 'display_text_range': [0, 59],\n",
       " 'entities': {'hashtags': [], 'symbols': [], 'user_mentions': [], 'urls': []},\n",
       " 'metadata': {'iso_language_code': 'es', 'result_type': 'recent'},\n",
       " 'source': '<a href=\"http://twitter.com/download/android\" rel=\"nofollow\">Twitter for Android</a>',\n",
       " 'in_reply_to_status_id': None,\n",
       " 'in_reply_to_status_id_str': None,\n",
       " 'in_reply_to_user_id': None,\n",
       " 'in_reply_to_user_id_str': None,\n",
       " 'in_reply_to_screen_name': None,\n",
       " 'user': {'id': 794500592785825793,\n",
       "  'id_str': '794500592785825793',\n",
       "  'name': 'Erika Prada',\n",
       "  'screen_name': 'Eri_pl',\n",
       "  'location': 'Pereira, Colombia',\n",
       "  'description': 'Volví, y ahora que hago?',\n",
       "  'url': None,\n",
       "  'entities': {'description': {'urls': []}},\n",
       "  'protected': False,\n",
       "  'followers_count': 75,\n",
       "  'friends_count': 102,\n",
       "  'listed_count': 0,\n",
       "  'created_at': 'Fri Nov 04 11:24:37 +0000 2016',\n",
       "  'favourites_count': 8809,\n",
       "  'utc_offset': None,\n",
       "  'time_zone': None,\n",
       "  'geo_enabled': True,\n",
       "  'verified': False,\n",
       "  'statuses_count': 5704,\n",
       "  'lang': None,\n",
       "  'contributors_enabled': False,\n",
       "  'is_translator': False,\n",
       "  'is_translation_enabled': False,\n",
       "  'profile_background_color': 'F5F8FA',\n",
       "  'profile_background_image_url': None,\n",
       "  'profile_background_image_url_https': None,\n",
       "  'profile_background_tile': False,\n",
       "  'profile_image_url': 'http://pbs.twimg.com/profile_images/1323460052943065089/mt-_ifje_normal.jpg',\n",
       "  'profile_image_url_https': 'https://pbs.twimg.com/profile_images/1323460052943065089/mt-_ifje_normal.jpg',\n",
       "  'profile_banner_url': 'https://pbs.twimg.com/profile_banners/794500592785825793/1604372439',\n",
       "  'profile_link_color': '1DA1F2',\n",
       "  'profile_sidebar_border_color': 'C0DEED',\n",
       "  'profile_sidebar_fill_color': 'DDEEF6',\n",
       "  'profile_text_color': '333333',\n",
       "  'profile_use_background_image': True,\n",
       "  'has_extended_profile': True,\n",
       "  'default_profile': True,\n",
       "  'default_profile_image': False,\n",
       "  'following': False,\n",
       "  'follow_request_sent': False,\n",
       "  'notifications': False,\n",
       "  'translator_type': 'none'},\n",
       " 'geo': None,\n",
       " 'coordinates': None,\n",
       " 'place': None,\n",
       " 'contributors': None,\n",
       " 'is_quote_status': False,\n",
       " 'retweet_count': 0,\n",
       " 'favorite_count': 0,\n",
       " 'favorited': False,\n",
       " 'retweeted': False,\n",
       " 'lang': 'es'}"
      ]
     },
     "execution_count": 184,
     "metadata": {},
     "output_type": "execute_result"
    }
   ],
   "source": [
    "t._json"
   ]
  },
  {
   "cell_type": "code",
   "execution_count": 185,
   "metadata": {},
   "outputs": [],
   "source": [
    "t = []\n",
    "\n",
    "for tweet in tweets:\n",
    "    temp = []\n",
    "    temp.append(tweet.full_text)\n",
    "    temp.append(tweet.created_at)\n",
    "    temp.append(\"Bogotá\")\n",
    "    temp.append(tweet.user.location)\n",
    "    temp.append(tweet.id)\n",
    "    temp.append(f\"https://twitter.com/i/web/status/{tweet.id}\")\n",
    "    \n",
    "    t.append(temp)\n",
    "    "
   ]
  },
  {
   "cell_type": "code",
   "execution_count": 186,
   "metadata": {},
   "outputs": [],
   "source": [
    "datos = pd.DataFrame(t)"
   ]
  },
  {
   "cell_type": "code",
   "execution_count": 187,
   "metadata": {},
   "outputs": [
    {
     "data": {
      "text/html": [
       "<div>\n",
       "<style scoped>\n",
       "    .dataframe tbody tr th:only-of-type {\n",
       "        vertical-align: middle;\n",
       "    }\n",
       "\n",
       "    .dataframe tbody tr th {\n",
       "        vertical-align: top;\n",
       "    }\n",
       "\n",
       "    .dataframe thead th {\n",
       "        text-align: right;\n",
       "    }\n",
       "</style>\n",
       "<table border=\"1\" class=\"dataframe\">\n",
       "  <thead>\n",
       "    <tr style=\"text-align: right;\">\n",
       "      <th></th>\n",
       "      <th>tweet</th>\n",
       "      <th>date</th>\n",
       "      <th>city</th>\n",
       "      <th>user_location</th>\n",
       "      <th>id</th>\n",
       "      <th>link</th>\n",
       "    </tr>\n",
       "  </thead>\n",
       "  <tbody>\n",
       "    <tr>\n",
       "      <td>0</td>\n",
       "      <td>@lagordaniembro La mayoría de las que son \"Net...</td>\n",
       "      <td>2020-11-14 11:33:11</td>\n",
       "      <td>Bogotá</td>\n",
       "      <td>Bogotá</td>\n",
       "      <td>1327575302344728577</td>\n",
       "      <td>https://twitter.com/i/web/status/1327575302344...</td>\n",
       "    </tr>\n",
       "    <tr>\n",
       "      <td>1</td>\n",
       "      <td>@TheWereDrunk La serie está en Netflix, perten...</td>\n",
       "      <td>2020-11-14 11:11:43</td>\n",
       "      <td>Bogotá</td>\n",
       "      <td>Bogotá, Colombia</td>\n",
       "      <td>1327569897015144449</td>\n",
       "      <td>https://twitter.com/i/web/status/1327569897015...</td>\n",
       "    </tr>\n",
       "    <tr>\n",
       "      <td>2</td>\n",
       "      <td>La verdá les pido que la vean para que Netflix...</td>\n",
       "      <td>2020-11-14 07:08:04</td>\n",
       "      <td>Bogotá</td>\n",
       "      <td>Bogotá, Colombia</td>\n",
       "      <td>1327508582716350464</td>\n",
       "      <td>https://twitter.com/i/web/status/1327508582716...</td>\n",
       "    </tr>\n",
       "    <tr>\n",
       "      <td>3</td>\n",
       "      <td>Tienen que verse Gambito de Dama en Netflix. E...</td>\n",
       "      <td>2020-11-14 06:12:22</td>\n",
       "      <td>Bogotá</td>\n",
       "      <td>Manizales, Caldas</td>\n",
       "      <td>1327494564949745664</td>\n",
       "      <td>https://twitter.com/i/web/status/1327494564949...</td>\n",
       "    </tr>\n",
       "    <tr>\n",
       "      <td>4</td>\n",
       "      <td>Estoy a esto 👌 de volverme vegana. Luego de ve...</td>\n",
       "      <td>2020-11-14 05:34:52</td>\n",
       "      <td>Bogotá</td>\n",
       "      <td>Bogotá Colombia</td>\n",
       "      <td>1327485128046743552</td>\n",
       "      <td>https://twitter.com/i/web/status/1327485128046...</td>\n",
       "    </tr>\n",
       "  </tbody>\n",
       "</table>\n",
       "</div>"
      ],
      "text/plain": [
       "                                               tweet                date  \\\n",
       "0  @lagordaniembro La mayoría de las que son \"Net... 2020-11-14 11:33:11   \n",
       "1  @TheWereDrunk La serie está en Netflix, perten... 2020-11-14 11:11:43   \n",
       "2  La verdá les pido que la vean para que Netflix... 2020-11-14 07:08:04   \n",
       "3  Tienen que verse Gambito de Dama en Netflix. E... 2020-11-14 06:12:22   \n",
       "4  Estoy a esto 👌 de volverme vegana. Luego de ve... 2020-11-14 05:34:52   \n",
       "\n",
       "     city      user_location                   id  \\\n",
       "0  Bogotá             Bogotá  1327575302344728577   \n",
       "1  Bogotá   Bogotá, Colombia  1327569897015144449   \n",
       "2  Bogotá   Bogotá, Colombia  1327508582716350464   \n",
       "3  Bogotá  Manizales, Caldas  1327494564949745664   \n",
       "4  Bogotá    Bogotá Colombia  1327485128046743552   \n",
       "\n",
       "                                                link  \n",
       "0  https://twitter.com/i/web/status/1327575302344...  \n",
       "1  https://twitter.com/i/web/status/1327569897015...  \n",
       "2  https://twitter.com/i/web/status/1327508582716...  \n",
       "3  https://twitter.com/i/web/status/1327494564949...  \n",
       "4  https://twitter.com/i/web/status/1327485128046...  "
      ]
     },
     "execution_count": 187,
     "metadata": {},
     "output_type": "execute_result"
    }
   ],
   "source": [
    "datos.columns = ['tweet', 'date', 'city', 'user_location', 'id', 'link']\n",
    "datos.head()"
   ]
  },
  {
   "cell_type": "markdown",
   "metadata": {},
   "source": [
    "Preprocesamiento para Tweets"
   ]
  },
  {
   "cell_type": "code",
   "execution_count": 188,
   "metadata": {},
   "outputs": [
    {
     "data": {
      "text/html": [
       "<div>\n",
       "<style scoped>\n",
       "    .dataframe tbody tr th:only-of-type {\n",
       "        vertical-align: middle;\n",
       "    }\n",
       "\n",
       "    .dataframe tbody tr th {\n",
       "        vertical-align: top;\n",
       "    }\n",
       "\n",
       "    .dataframe thead th {\n",
       "        text-align: right;\n",
       "    }\n",
       "</style>\n",
       "<table border=\"1\" class=\"dataframe\">\n",
       "  <thead>\n",
       "    <tr style=\"text-align: right;\">\n",
       "      <th></th>\n",
       "      <th>tweet</th>\n",
       "      <th>date</th>\n",
       "      <th>city</th>\n",
       "    </tr>\n",
       "  </thead>\n",
       "  <tbody>\n",
       "    <tr>\n",
       "      <td>0</td>\n",
       "      <td>@lagordaniembro La mayoría de las que son \"Net...</td>\n",
       "      <td>2020-11-14 11:33:11</td>\n",
       "      <td>Bogotá</td>\n",
       "    </tr>\n",
       "    <tr>\n",
       "      <td>1</td>\n",
       "      <td>@TheWereDrunk La serie está en Netflix, perten...</td>\n",
       "      <td>2020-11-14 11:11:43</td>\n",
       "      <td>Bogotá</td>\n",
       "    </tr>\n",
       "    <tr>\n",
       "      <td>2</td>\n",
       "      <td>La verdá les pido que la vean para que Netflix...</td>\n",
       "      <td>2020-11-14 07:08:04</td>\n",
       "      <td>Bogotá</td>\n",
       "    </tr>\n",
       "    <tr>\n",
       "      <td>3</td>\n",
       "      <td>Tienen que verse Gambito de Dama en Netflix. E...</td>\n",
       "      <td>2020-11-14 06:12:22</td>\n",
       "      <td>Bogotá</td>\n",
       "    </tr>\n",
       "    <tr>\n",
       "      <td>4</td>\n",
       "      <td>Estoy a esto 👌 de volverme vegana. Luego de ve...</td>\n",
       "      <td>2020-11-14 05:34:52</td>\n",
       "      <td>Bogotá</td>\n",
       "    </tr>\n",
       "  </tbody>\n",
       "</table>\n",
       "</div>"
      ],
      "text/plain": [
       "                                               tweet                date  \\\n",
       "0  @lagordaniembro La mayoría de las que son \"Net... 2020-11-14 11:33:11   \n",
       "1  @TheWereDrunk La serie está en Netflix, perten... 2020-11-14 11:11:43   \n",
       "2  La verdá les pido que la vean para que Netflix... 2020-11-14 07:08:04   \n",
       "3  Tienen que verse Gambito de Dama en Netflix. E... 2020-11-14 06:12:22   \n",
       "4  Estoy a esto 👌 de volverme vegana. Luego de ve... 2020-11-14 05:34:52   \n",
       "\n",
       "     city  \n",
       "0  Bogotá  \n",
       "1  Bogotá  \n",
       "2  Bogotá  \n",
       "3  Bogotá  \n",
       "4  Bogotá  "
      ]
     },
     "execution_count": 188,
     "metadata": {},
     "output_type": "execute_result"
    }
   ],
   "source": [
    "datos = datos[['tweet','date','city']]\n",
    "datos.head()"
   ]
  },
  {
   "cell_type": "code",
   "execution_count": 208,
   "metadata": {},
   "outputs": [],
   "source": [
    "def pre_procesado(texto):\n",
    "    texto = texto.lower()\n",
    "    texto = re.sub(r\"[\\W\\d_]+\", \" \", texto)\n",
    "    texto = [palabra for palabra in texto.split() if palabra not in stopwords]\n",
    "    return texto\n"
   ]
  },
  {
   "cell_type": "code",
   "execution_count": 209,
   "metadata": {},
   "outputs": [
    {
     "data": {
      "text/html": [
       "<div>\n",
       "<style scoped>\n",
       "    .dataframe tbody tr th:only-of-type {\n",
       "        vertical-align: middle;\n",
       "    }\n",
       "\n",
       "    .dataframe tbody tr th {\n",
       "        vertical-align: top;\n",
       "    }\n",
       "\n",
       "    .dataframe thead th {\n",
       "        text-align: right;\n",
       "    }\n",
       "</style>\n",
       "<table border=\"1\" class=\"dataframe\">\n",
       "  <thead>\n",
       "    <tr style=\"text-align: right;\">\n",
       "      <th></th>\n",
       "      <th>tweet</th>\n",
       "      <th>date</th>\n",
       "      <th>city</th>\n",
       "      <th>tweet_p</th>\n",
       "    </tr>\n",
       "  </thead>\n",
       "  <tbody>\n",
       "    <tr>\n",
       "      <td>0</td>\n",
       "      <td>@lagordaniembro La mayoría de las que son \"Net...</td>\n",
       "      <td>2020-11-14 11:33:11</td>\n",
       "      <td>Bogotá</td>\n",
       "      <td>[lagordaniembro, mayoría, netflix, original]</td>\n",
       "    </tr>\n",
       "    <tr>\n",
       "      <td>1</td>\n",
       "      <td>@TheWereDrunk La serie está en Netflix, perten...</td>\n",
       "      <td>2020-11-14 11:11:43</td>\n",
       "      <td>Bogotá</td>\n",
       "      <td>[theweredrunk, serie, netflix, pertenece, catá...</td>\n",
       "    </tr>\n",
       "    <tr>\n",
       "      <td>2</td>\n",
       "      <td>La verdá les pido que la vean para que Netflix...</td>\n",
       "      <td>2020-11-14 07:08:04</td>\n",
       "      <td>Bogotá</td>\n",
       "      <td>[verdá, pido, vean, netflix, cancele, tener, q...</td>\n",
       "    </tr>\n",
       "    <tr>\n",
       "      <td>3</td>\n",
       "      <td>Tienen que verse Gambito de Dama en Netflix. E...</td>\n",
       "      <td>2020-11-14 06:12:22</td>\n",
       "      <td>Bogotá</td>\n",
       "      <td>[verse, gambito, dama, netflix, buenísima]</td>\n",
       "    </tr>\n",
       "    <tr>\n",
       "      <td>4</td>\n",
       "      <td>Estoy a esto 👌 de volverme vegana. Luego de ve...</td>\n",
       "      <td>2020-11-14 05:34:52</td>\n",
       "      <td>Bogotá</td>\n",
       "      <td>[volverme, vegana, luego, ver, what, the, heal...</td>\n",
       "    </tr>\n",
       "  </tbody>\n",
       "</table>\n",
       "</div>"
      ],
      "text/plain": [
       "                                               tweet                date  \\\n",
       "0  @lagordaniembro La mayoría de las que son \"Net... 2020-11-14 11:33:11   \n",
       "1  @TheWereDrunk La serie está en Netflix, perten... 2020-11-14 11:11:43   \n",
       "2  La verdá les pido que la vean para que Netflix... 2020-11-14 07:08:04   \n",
       "3  Tienen que verse Gambito de Dama en Netflix. E... 2020-11-14 06:12:22   \n",
       "4  Estoy a esto 👌 de volverme vegana. Luego de ve... 2020-11-14 05:34:52   \n",
       "\n",
       "     city                                            tweet_p  \n",
       "0  Bogotá       [lagordaniembro, mayoría, netflix, original]  \n",
       "1  Bogotá  [theweredrunk, serie, netflix, pertenece, catá...  \n",
       "2  Bogotá  [verdá, pido, vean, netflix, cancele, tener, q...  \n",
       "3  Bogotá         [verse, gambito, dama, netflix, buenísima]  \n",
       "4  Bogotá  [volverme, vegana, luego, ver, what, the, heal...  "
      ]
     },
     "execution_count": 209,
     "metadata": {},
     "output_type": "execute_result"
    }
   ],
   "source": [
    "\n",
    "datos['tweet_p'] = datos['tweet'].apply(lambda texto: pre_procesado(texto))\n",
    "\n",
    "datos.head()"
   ]
  },
  {
   "cell_type": "code",
   "execution_count": 210,
   "metadata": {},
   "outputs": [
    {
     "data": {
      "text/plain": [
       "['theweredrunk',\n",
       " 'serie',\n",
       " 'netflix',\n",
       " 'pertenece',\n",
       " 'catálogo',\n",
       " 'series',\n",
       " 'televisión',\n",
       " 'española']"
      ]
     },
     "execution_count": 210,
     "metadata": {},
     "output_type": "execute_result"
    }
   ],
   "source": [
    "datos.tweet_p.iloc[1]"
   ]
  },
  {
   "cell_type": "code",
   "execution_count": 156,
   "metadata": {},
   "outputs": [
    {
     "data": {
      "text/plain": [
       "'La verdá les pido que la vean para que Netflix no la cancele y tener con quién hablar de ella.'"
      ]
     },
     "execution_count": 156,
     "metadata": {},
     "output_type": "execute_result"
    }
   ],
   "source": [
    "datos.tweet.iloc[1]"
   ]
  },
  {
   "cell_type": "code",
   "execution_count": 211,
   "metadata": {},
   "outputs": [],
   "source": [
    "import re\n",
    "\n",
    "pattern1 = '?P<pic>pic.twitter.com/[^\\s]+'\n",
    "pattern2 = '?P<url>https?://[^\\s]+'\n",
    "\n",
    "def text_clean(row):\n",
    "    text = row['tweet_p']\n",
    "    \n",
    "    links = [tuple(j for j in i if j)[-1] for i in re.findall(f\"({pattern1})|({pattern2})\",text)]\n",
    "    for link in links:\n",
    "        text = text.replace(link,\"\")\n",
    "             \n",
    "    hashtags = [interaction for interaction in text.split() if interaction.startswith(\"#\")]\n",
    "    for hashtag in hashtags:\n",
    "        text = text.replace(hashtag,\"\")\n",
    "        \n",
    "    mentions = [interaction for interaction in text.split() if interaction.startswith(\"@\")]\n",
    "    for mention in mentions:\n",
    "        text = text.replace(mention,\"\")\n",
    "        \n",
    "    return text, links, hashtags, mentions"
   ]
  },
  {
   "cell_type": "code",
   "execution_count": null,
   "metadata": {},
   "outputs": [],
   "source": [
    "datos[['tweet_clean', 'links_2', 'hashtags', 'mentions']] = datos.apply(text_clean, axis=1, result_type='expand')"
   ]
  },
  {
   "cell_type": "code",
   "execution_count": 138,
   "metadata": {},
   "outputs": [
    {
     "data": {
      "text/html": [
       "<div>\n",
       "<style scoped>\n",
       "    .dataframe tbody tr th:only-of-type {\n",
       "        vertical-align: middle;\n",
       "    }\n",
       "\n",
       "    .dataframe tbody tr th {\n",
       "        vertical-align: top;\n",
       "    }\n",
       "\n",
       "    .dataframe thead th {\n",
       "        text-align: right;\n",
       "    }\n",
       "</style>\n",
       "<table border=\"1\" class=\"dataframe\">\n",
       "  <thead>\n",
       "    <tr style=\"text-align: right;\">\n",
       "      <th></th>\n",
       "      <th>tweet</th>\n",
       "      <th>date</th>\n",
       "      <th>city</th>\n",
       "      <th>tweet_p</th>\n",
       "    </tr>\n",
       "  </thead>\n",
       "  <tbody>\n",
       "    <tr>\n",
       "      <td>0</td>\n",
       "      <td>@TheWereDrunk La serie está en Netflix, perten...</td>\n",
       "      <td>2020-11-14 11:11:43</td>\n",
       "      <td>Bogotá</td>\n",
       "      <td>[theweredrunk, serie, netflix, pertenece, catá...</td>\n",
       "    </tr>\n",
       "    <tr>\n",
       "      <td>1</td>\n",
       "      <td>La verdá les pido que la vean para que Netflix...</td>\n",
       "      <td>2020-11-14 07:08:04</td>\n",
       "      <td>Bogotá</td>\n",
       "      <td>[verdá, pido, vean, netflix, cancele, tener, q...</td>\n",
       "    </tr>\n",
       "    <tr>\n",
       "      <td>2</td>\n",
       "      <td>Tienen que verse Gambito de Dama en Netflix. E...</td>\n",
       "      <td>2020-11-14 06:12:22</td>\n",
       "      <td>Bogotá</td>\n",
       "      <td>[verse, gambito, dama, netflix, buenísima]</td>\n",
       "    </tr>\n",
       "    <tr>\n",
       "      <td>3</td>\n",
       "      <td>Estoy a esto 👌 de volverme vegana. Luego de ve...</td>\n",
       "      <td>2020-11-14 05:34:52</td>\n",
       "      <td>Bogotá</td>\n",
       "      <td>[volverme, vegana, luego, ver, what, the, heal...</td>\n",
       "    </tr>\n",
       "    <tr>\n",
       "      <td>4</td>\n",
       "      <td>@vamarogu Huy si la locura 📺 Netflix 🍟🍔y ya</td>\n",
       "      <td>2020-11-14 05:32:53</td>\n",
       "      <td>Bogotá</td>\n",
       "      <td>[vamarogu, huy, si, locura, netflix]</td>\n",
       "    </tr>\n",
       "  </tbody>\n",
       "</table>\n",
       "</div>"
      ],
      "text/plain": [
       "                                               tweet                date  \\\n",
       "0  @TheWereDrunk La serie está en Netflix, perten... 2020-11-14 11:11:43   \n",
       "1  La verdá les pido que la vean para que Netflix... 2020-11-14 07:08:04   \n",
       "2  Tienen que verse Gambito de Dama en Netflix. E... 2020-11-14 06:12:22   \n",
       "3  Estoy a esto 👌 de volverme vegana. Luego de ve... 2020-11-14 05:34:52   \n",
       "4        @vamarogu Huy si la locura 📺 Netflix 🍟🍔y ya 2020-11-14 05:32:53   \n",
       "\n",
       "     city                                            tweet_p  \n",
       "0  Bogotá  [theweredrunk, serie, netflix, pertenece, catá...  \n",
       "1  Bogotá  [verdá, pido, vean, netflix, cancele, tener, q...  \n",
       "2  Bogotá         [verse, gambito, dama, netflix, buenísima]  \n",
       "3  Bogotá  [volverme, vegana, luego, ver, what, the, heal...  \n",
       "4  Bogotá               [vamarogu, huy, si, locura, netflix]  "
      ]
     },
     "execution_count": 138,
     "metadata": {},
     "output_type": "execute_result"
    }
   ],
   "source": [
    "datos.head()"
   ]
  },
  {
   "cell_type": "code",
   "execution_count": 214,
   "metadata": {},
   "outputs": [
    {
     "name": "stdout",
     "output_type": "stream",
     "text": [
      "Collecting regex\n",
      "  Downloading https://files.pythonhosted.org/packages/4f/3f/40c8db23e022ccc9eb9fc0f39202af49c8614b22990b2e7129c2543f2da5/regex-2020.11.13-cp37-cp37m-win_amd64.whl (269kB)\n",
      "Installing collected packages: regex\n",
      "Successfully installed regex-2020.11.13\n",
      "Note: you may need to restart the kernel to use updated packages.\n"
     ]
    }
   ],
   "source": [
    "pip install regex\n"
   ]
  },
  {
   "cell_type": "code",
   "execution_count": 215,
   "metadata": {},
   "outputs": [
    {
     "name": "stdout",
     "output_type": "stream",
     "text": [
      "Collecting emoji\n",
      "  Downloading https://files.pythonhosted.org/packages/ff/1c/1f1457fe52d0b30cbeebfd578483cedb3e3619108d2d5a21380dfecf8ffd/emoji-0.6.0.tar.gz (51kB)\n",
      "Building wheels for collected packages: emoji\n",
      "  Building wheel for emoji (setup.py): started\n",
      "  Building wheel for emoji (setup.py): finished with status 'done'\n",
      "  Created wheel for emoji: filename=emoji-0.6.0-cp37-none-any.whl size=49720 sha256=5cc97c4c30ba42a58d99a6e80113cd83ccb9e4fbf8611ae74a8c999e35a6391c\n",
      "  Stored in directory: C:\\Users\\Nadia\\AppData\\Local\\pip\\Cache\\wheels\\46\\2c\\8b\\9dcf5216ca68e14e0320e283692dce8ae321cdc01e73e17796\n",
      "Successfully built emoji\n",
      "Installing collected packages: emoji\n",
      "Successfully installed emoji-0.6.0\n",
      "Note: you may need to restart the kernel to use updated packages.\n"
     ]
    }
   ],
   "source": [
    "pip install emoji"
   ]
  },
  {
   "cell_type": "code",
   "execution_count": null,
   "metadata": {},
   "outputs": [],
   "source": [
    "import regex\n",
    "import emoji\n",
    "\n",
    "def get_emojis(text):\n",
    "    emoji_list = []\n",
    "    datos = regex.findall(r'\\X', text)\n",
    "    for word in data:\n",
    "        if any(char in emoji.UNICODE_EMOJI for char in word):\n",
    "            emoji_list.append(word)\n",
    "\n",
    "\n",
    "    return emoji_list\n",
    "\n",
    " \n",
    "datps['emojis'] = datos['tweet_p'].apply(lambda text: get_emojis(text))"
   ]
  },
  {
   "cell_type": "code",
   "execution_count": null,
   "metadata": {},
   "outputs": [],
   "source": []
  }
 ],
 "metadata": {
  "kernelspec": {
   "display_name": "Python 3",
   "language": "python",
   "name": "python3"
  },
  "language_info": {
   "codemirror_mode": {
    "name": "ipython",
    "version": 3
   },
   "file_extension": ".py",
   "mimetype": "text/x-python",
   "name": "python",
   "nbconvert_exporter": "python",
   "pygments_lexer": "ipython3",
   "version": "3.7.4"
  }
 },
 "nbformat": 4,
 "nbformat_minor": 2
}
