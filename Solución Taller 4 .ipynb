{
 "cells": [
  {
   "cell_type": "markdown",
   "metadata": {},
   "source": [
    "Solución Taller 4 - Feature Engineering"
   ]
  },
  {
   "cell_type": "markdown",
   "metadata": {},
   "source": [
    "Punto 1: Pre-Procesamiento"
   ]
  },
  {
   "cell_type": "markdown",
   "metadata": {},
   "source": [
    "Leer el archivo dialogos.csv usando Pandas"
   ]
  },
  {
   "cell_type": "code",
   "execution_count": 2,
   "metadata": {},
   "outputs": [],
   "source": [
    "import pandas as pd"
   ]
  },
  {
   "cell_type": "code",
   "execution_count": 3,
   "metadata": {},
   "outputs": [],
   "source": [
    "datos = pd.read_csv ('C:/Users/Nadia/Documents/Especialización/NPL/Clases y Talleres/dialogos.csv')"
   ]
  },
  {
   "cell_type": "code",
   "execution_count": 4,
   "metadata": {},
   "outputs": [
    {
     "data": {
      "text/html": [
       "<div>\n",
       "<style scoped>\n",
       "    .dataframe tbody tr th:only-of-type {\n",
       "        vertical-align: middle;\n",
       "    }\n",
       "\n",
       "    .dataframe tbody tr th {\n",
       "        vertical-align: top;\n",
       "    }\n",
       "\n",
       "    .dataframe thead th {\n",
       "        text-align: right;\n",
       "    }\n",
       "</style>\n",
       "<table border=\"1\" class=\"dataframe\">\n",
       "  <thead>\n",
       "    <tr style=\"text-align: right;\">\n",
       "      <th></th>\n",
       "      <th>Locución</th>\n",
       "    </tr>\n",
       "  </thead>\n",
       "  <tbody>\n",
       "    <tr>\n",
       "      <td>0</td>\n",
       "      <td>Francamente no</td>\n",
       "    </tr>\n",
       "    <tr>\n",
       "      <td>1</td>\n",
       "      <td>Lo del canadiense. Por favor, como que vosotro...</td>\n",
       "    </tr>\n",
       "    <tr>\n",
       "      <td>2</td>\n",
       "      <td>Tienes razón. A lo mejor así te liberas de tu ...</td>\n",
       "    </tr>\n",
       "    <tr>\n",
       "      <td>3</td>\n",
       "      <td>Pues, tú sabrás</td>\n",
       "    </tr>\n",
       "    <tr>\n",
       "      <td>4</td>\n",
       "      <td>Para mí que fue Krieger</td>\n",
       "    </tr>\n",
       "    <tr>\n",
       "      <td>...</td>\n",
       "      <td>...</td>\n",
       "    </tr>\n",
       "    <tr>\n",
       "      <td>954</td>\n",
       "      <td>Yo qué sé, digo yo qué será</td>\n",
       "    </tr>\n",
       "    <tr>\n",
       "      <td>955</td>\n",
       "      <td>Lo han entendido mal. Las joyas que venden en ...</td>\n",
       "    </tr>\n",
       "    <tr>\n",
       "      <td>956</td>\n",
       "      <td>Oooo... Me llamo Vivian</td>\n",
       "    </tr>\n",
       "    <tr>\n",
       "      <td>957</td>\n",
       "      <td>¿De dónde? ¿Del coño de tu madre?</td>\n",
       "    </tr>\n",
       "    <tr>\n",
       "      <td>958</td>\n",
       "      <td>Ah, sí esto podría funcionar</td>\n",
       "    </tr>\n",
       "  </tbody>\n",
       "</table>\n",
       "<p>959 rows × 1 columns</p>\n",
       "</div>"
      ],
      "text/plain": [
       "                                              Locución\n",
       "0                                       Francamente no\n",
       "1    Lo del canadiense. Por favor, como que vosotro...\n",
       "2    Tienes razón. A lo mejor así te liberas de tu ...\n",
       "3                                      Pues, tú sabrás\n",
       "4                              Para mí que fue Krieger\n",
       "..                                                 ...\n",
       "954                        Yo qué sé, digo yo qué será\n",
       "955  Lo han entendido mal. Las joyas que venden en ...\n",
       "956                            Oooo... Me llamo Vivian\n",
       "957                  ¿De dónde? ¿Del coño de tu madre?\n",
       "958                       Ah, sí esto podría funcionar\n",
       "\n",
       "[959 rows x 1 columns]"
      ]
     },
     "execution_count": 4,
     "metadata": {},
     "output_type": "execute_result"
    }
   ],
   "source": [
    "datos"
   ]
  },
  {
   "cell_type": "markdown",
   "metadata": {},
   "source": [
    " Crear una nueva columna con el texto en minúscula, sin caracteres especiales ni números y sin palabras vacias"
   ]
  },
  {
   "cell_type": "code",
   "execution_count": 5,
   "metadata": {},
   "outputs": [],
   "source": [
    "datos['Ajustada'] = datos['Locución'].apply(lambda x: x.lower())"
   ]
  },
  {
   "cell_type": "code",
   "execution_count": 6,
   "metadata": {
    "scrolled": true
   },
   "outputs": [
    {
     "data": {
      "text/html": [
       "<div>\n",
       "<style scoped>\n",
       "    .dataframe tbody tr th:only-of-type {\n",
       "        vertical-align: middle;\n",
       "    }\n",
       "\n",
       "    .dataframe tbody tr th {\n",
       "        vertical-align: top;\n",
       "    }\n",
       "\n",
       "    .dataframe thead th {\n",
       "        text-align: right;\n",
       "    }\n",
       "</style>\n",
       "<table border=\"1\" class=\"dataframe\">\n",
       "  <thead>\n",
       "    <tr style=\"text-align: right;\">\n",
       "      <th></th>\n",
       "      <th>Locución</th>\n",
       "      <th>Ajustada</th>\n",
       "    </tr>\n",
       "  </thead>\n",
       "  <tbody>\n",
       "    <tr>\n",
       "      <td>0</td>\n",
       "      <td>Francamente no</td>\n",
       "      <td>francamente no</td>\n",
       "    </tr>\n",
       "    <tr>\n",
       "      <td>1</td>\n",
       "      <td>Lo del canadiense. Por favor, como que vosotro...</td>\n",
       "      <td>lo del canadiense. por favor, como que vosotro...</td>\n",
       "    </tr>\n",
       "    <tr>\n",
       "      <td>2</td>\n",
       "      <td>Tienes razón. A lo mejor así te liberas de tu ...</td>\n",
       "      <td>tienes razón. a lo mejor así te liberas de tu ...</td>\n",
       "    </tr>\n",
       "    <tr>\n",
       "      <td>3</td>\n",
       "      <td>Pues, tú sabrás</td>\n",
       "      <td>pues, tú sabrás</td>\n",
       "    </tr>\n",
       "    <tr>\n",
       "      <td>4</td>\n",
       "      <td>Para mí que fue Krieger</td>\n",
       "      <td>para mí que fue krieger</td>\n",
       "    </tr>\n",
       "    <tr>\n",
       "      <td>...</td>\n",
       "      <td>...</td>\n",
       "      <td>...</td>\n",
       "    </tr>\n",
       "    <tr>\n",
       "      <td>954</td>\n",
       "      <td>Yo qué sé, digo yo qué será</td>\n",
       "      <td>yo qué sé, digo yo qué será</td>\n",
       "    </tr>\n",
       "    <tr>\n",
       "      <td>955</td>\n",
       "      <td>Lo han entendido mal. Las joyas que venden en ...</td>\n",
       "      <td>lo han entendido mal. las joyas que venden en ...</td>\n",
       "    </tr>\n",
       "    <tr>\n",
       "      <td>956</td>\n",
       "      <td>Oooo... Me llamo Vivian</td>\n",
       "      <td>oooo... me llamo vivian</td>\n",
       "    </tr>\n",
       "    <tr>\n",
       "      <td>957</td>\n",
       "      <td>¿De dónde? ¿Del coño de tu madre?</td>\n",
       "      <td>¿de dónde? ¿del coño de tu madre?</td>\n",
       "    </tr>\n",
       "    <tr>\n",
       "      <td>958</td>\n",
       "      <td>Ah, sí esto podría funcionar</td>\n",
       "      <td>ah, sí esto podría funcionar</td>\n",
       "    </tr>\n",
       "  </tbody>\n",
       "</table>\n",
       "<p>959 rows × 2 columns</p>\n",
       "</div>"
      ],
      "text/plain": [
       "                                              Locución  \\\n",
       "0                                       Francamente no   \n",
       "1    Lo del canadiense. Por favor, como que vosotro...   \n",
       "2    Tienes razón. A lo mejor así te liberas de tu ...   \n",
       "3                                      Pues, tú sabrás   \n",
       "4                              Para mí que fue Krieger   \n",
       "..                                                 ...   \n",
       "954                        Yo qué sé, digo yo qué será   \n",
       "955  Lo han entendido mal. Las joyas que venden en ...   \n",
       "956                            Oooo... Me llamo Vivian   \n",
       "957                  ¿De dónde? ¿Del coño de tu madre?   \n",
       "958                       Ah, sí esto podría funcionar   \n",
       "\n",
       "                                              Ajustada  \n",
       "0                                       francamente no  \n",
       "1    lo del canadiense. por favor, como que vosotro...  \n",
       "2    tienes razón. a lo mejor así te liberas de tu ...  \n",
       "3                                      pues, tú sabrás  \n",
       "4                              para mí que fue krieger  \n",
       "..                                                 ...  \n",
       "954                        yo qué sé, digo yo qué será  \n",
       "955  lo han entendido mal. las joyas que venden en ...  \n",
       "956                            oooo... me llamo vivian  \n",
       "957                  ¿de dónde? ¿del coño de tu madre?  \n",
       "958                       ah, sí esto podría funcionar  \n",
       "\n",
       "[959 rows x 2 columns]"
      ]
     },
     "execution_count": 6,
     "metadata": {},
     "output_type": "execute_result"
    }
   ],
   "source": [
    "datos"
   ]
  },
  {
   "cell_type": "code",
   "execution_count": 7,
   "metadata": {},
   "outputs": [
    {
     "ename": "AttributeError",
     "evalue": "'Series' object has no attribute 're'",
     "output_type": "error",
     "traceback": [
      "\u001b[1;31m---------------------------------------------------------------------------\u001b[0m",
      "\u001b[1;31mAttributeError\u001b[0m                            Traceback (most recent call last)",
      "\u001b[1;32m<ipython-input-7-57d0618893dd>\u001b[0m in \u001b[0;36m<module>\u001b[1;34m\u001b[0m\n\u001b[0;32m      1\u001b[0m \u001b[1;32mimport\u001b[0m \u001b[0mre\u001b[0m\u001b[1;33m\u001b[0m\u001b[1;33m\u001b[0m\u001b[0m\n\u001b[1;32m----> 2\u001b[1;33m \u001b[0mdatos\u001b[0m\u001b[1;33m[\u001b[0m\u001b[1;34m'Ajustada'\u001b[0m\u001b[1;33m]\u001b[0m \u001b[1;33m=\u001b[0m \u001b[0mdatos\u001b[0m\u001b[1;33m[\u001b[0m\u001b[1;34m'Locución'\u001b[0m\u001b[1;33m]\u001b[0m\u001b[1;33m.\u001b[0m\u001b[0mapply\u001b[0m\u001b[1;33m(\u001b[0m\u001b[1;32mlambda\u001b[0m \u001b[0mx\u001b[0m\u001b[1;33m:\u001b[0m \u001b[0mx\u001b[0m\u001b[1;33m.\u001b[0m\u001b[0mlower\u001b[0m\u001b[1;33m(\u001b[0m\u001b[1;33m)\u001b[0m\u001b[1;33m)\u001b[0m\u001b[1;33m.\u001b[0m\u001b[0mre\u001b[0m\u001b[1;33m.\u001b[0m\u001b[0msub\u001b[0m\u001b[1;33m(\u001b[0m\u001b[1;34mr\"[\\W\\d_]+\"\u001b[0m\u001b[1;33m,\u001b[0m \u001b[1;34m\" \"\u001b[0m\u001b[1;33m,\u001b[0m  \u001b[0mdatos\u001b[0m\u001b[1;33m[\u001b[0m\u001b[1;34m'Locución'\u001b[0m\u001b[1;33m]\u001b[0m\u001b[1;33m)\u001b[0m\u001b[1;33m\u001b[0m\u001b[1;33m\u001b[0m\u001b[0m\n\u001b[0m",
      "\u001b[1;32m~\\AppData\\Local\\Continuum\\anaconda3\\lib\\site-packages\\pandas\\core\\generic.py\u001b[0m in \u001b[0;36m__getattr__\u001b[1;34m(self, name)\u001b[0m\n\u001b[0;32m   5177\u001b[0m             \u001b[1;32mif\u001b[0m \u001b[0mself\u001b[0m\u001b[1;33m.\u001b[0m\u001b[0m_info_axis\u001b[0m\u001b[1;33m.\u001b[0m\u001b[0m_can_hold_identifiers_and_holds_name\u001b[0m\u001b[1;33m(\u001b[0m\u001b[0mname\u001b[0m\u001b[1;33m)\u001b[0m\u001b[1;33m:\u001b[0m\u001b[1;33m\u001b[0m\u001b[1;33m\u001b[0m\u001b[0m\n\u001b[0;32m   5178\u001b[0m                 \u001b[1;32mreturn\u001b[0m \u001b[0mself\u001b[0m\u001b[1;33m[\u001b[0m\u001b[0mname\u001b[0m\u001b[1;33m]\u001b[0m\u001b[1;33m\u001b[0m\u001b[1;33m\u001b[0m\u001b[0m\n\u001b[1;32m-> 5179\u001b[1;33m             \u001b[1;32mreturn\u001b[0m \u001b[0mobject\u001b[0m\u001b[1;33m.\u001b[0m\u001b[0m__getattribute__\u001b[0m\u001b[1;33m(\u001b[0m\u001b[0mself\u001b[0m\u001b[1;33m,\u001b[0m \u001b[0mname\u001b[0m\u001b[1;33m)\u001b[0m\u001b[1;33m\u001b[0m\u001b[1;33m\u001b[0m\u001b[0m\n\u001b[0m\u001b[0;32m   5180\u001b[0m \u001b[1;33m\u001b[0m\u001b[0m\n\u001b[0;32m   5181\u001b[0m     \u001b[1;32mdef\u001b[0m \u001b[0m__setattr__\u001b[0m\u001b[1;33m(\u001b[0m\u001b[0mself\u001b[0m\u001b[1;33m,\u001b[0m \u001b[0mname\u001b[0m\u001b[1;33m,\u001b[0m \u001b[0mvalue\u001b[0m\u001b[1;33m)\u001b[0m\u001b[1;33m:\u001b[0m\u001b[1;33m\u001b[0m\u001b[1;33m\u001b[0m\u001b[0m\n",
      "\u001b[1;31mAttributeError\u001b[0m: 'Series' object has no attribute 're'"
     ]
    }
   ],
   "source": [
    "import re\n",
    "datos['Ajustada'] = datos['Locución'].apply(lambda x: x.lower()).re.sub(r\"[\\W\\d_]+\", \" \",  datos['Locución'])"
   ]
  },
  {
   "cell_type": "code",
   "execution_count": 8,
   "metadata": {},
   "outputs": [
    {
     "data": {
      "text/plain": [
       "0                                         francamente no\n",
       "1      lo del canadiense. por favor, como que vosotro...\n",
       "2      tienes razón. a lo mejor así te liberas de tu ...\n",
       "3                                        pues, tú sabrás\n",
       "4                                para mí que fue krieger\n",
       "                             ...                        \n",
       "954                          yo qué sé, digo yo qué será\n",
       "955    lo han entendido mal. las joyas que venden en ...\n",
       "956                              oooo... me llamo vivian\n",
       "957                    ¿de dónde? ¿del coño de tu madre?\n",
       "958                         ah, sí esto podría funcionar\n",
       "Name: Ajustada, Length: 959, dtype: object"
      ]
     },
     "execution_count": 8,
     "metadata": {},
     "output_type": "execute_result"
    }
   ],
   "source": [
    "data = datos.loc[:, 'Ajustada']\n",
    "data"
   ]
  },
  {
   "cell_type": "code",
   "execution_count": 9,
   "metadata": {},
   "outputs": [
    {
     "ename": "NameError",
     "evalue": "name 'stopwords_sp' is not defined",
     "output_type": "error",
     "traceback": [
      "\u001b[1;31m---------------------------------------------------------------------------\u001b[0m",
      "\u001b[1;31mNameError\u001b[0m                                 Traceback (most recent call last)",
      "\u001b[1;32m<ipython-input-9-df60586e19fa>\u001b[0m in \u001b[0;36m<module>\u001b[1;34m\u001b[0m\n\u001b[1;32m----> 1\u001b[1;33m \u001b[0mdf\u001b[0m \u001b[1;33m=\u001b[0m \u001b[1;33m[\u001b[0m\u001b[0mpalabra\u001b[0m \u001b[1;32mfor\u001b[0m \u001b[0mpalabra\u001b[0m \u001b[1;32min\u001b[0m \u001b[0mdata\u001b[0m \u001b[1;32mif\u001b[0m \u001b[0mpalabra\u001b[0m \u001b[1;32mnot\u001b[0m \u001b[1;32min\u001b[0m \u001b[0mstopwords_sp\u001b[0m\u001b[1;33m]\u001b[0m\u001b[1;33m\u001b[0m\u001b[1;33m\u001b[0m\u001b[0m\n\u001b[0m\u001b[0;32m      2\u001b[0m \u001b[0mprint\u001b[0m\u001b[1;33m(\u001b[0m\u001b[0mdf\u001b[0m\u001b[1;33m)\u001b[0m\u001b[1;33m\u001b[0m\u001b[1;33m\u001b[0m\u001b[0m\n",
      "\u001b[1;32m<ipython-input-9-df60586e19fa>\u001b[0m in \u001b[0;36m<listcomp>\u001b[1;34m(.0)\u001b[0m\n\u001b[1;32m----> 1\u001b[1;33m \u001b[0mdf\u001b[0m \u001b[1;33m=\u001b[0m \u001b[1;33m[\u001b[0m\u001b[0mpalabra\u001b[0m \u001b[1;32mfor\u001b[0m \u001b[0mpalabra\u001b[0m \u001b[1;32min\u001b[0m \u001b[0mdata\u001b[0m \u001b[1;32mif\u001b[0m \u001b[0mpalabra\u001b[0m \u001b[1;32mnot\u001b[0m \u001b[1;32min\u001b[0m \u001b[0mstopwords_sp\u001b[0m\u001b[1;33m]\u001b[0m\u001b[1;33m\u001b[0m\u001b[1;33m\u001b[0m\u001b[0m\n\u001b[0m\u001b[0;32m      2\u001b[0m \u001b[0mprint\u001b[0m\u001b[1;33m(\u001b[0m\u001b[0mdf\u001b[0m\u001b[1;33m)\u001b[0m\u001b[1;33m\u001b[0m\u001b[1;33m\u001b[0m\u001b[0m\n",
      "\u001b[1;31mNameError\u001b[0m: name 'stopwords_sp' is not defined"
     ]
    }
   ],
   "source": [
    "df = [palabra for palabra in data if palabra not in stopwords_sp]\n",
    "print(df)"
   ]
  },
  {
   "cell_type": "code",
   "execution_count": 10,
   "metadata": {},
   "outputs": [
    {
     "data": {
      "text/plain": [
       "0                                         francamente no\n",
       "1      lo del canadiense. por favor, como que vosotro...\n",
       "2      tienes razón. a lo mejor así te liberas de tu ...\n",
       "3                                        pues, tú sabrás\n",
       "4                                para mí que fue krieger\n",
       "                             ...                        \n",
       "954                          yo qué sé, digo yo qué será\n",
       "955    lo han entendido mal. las joyas que venden en ...\n",
       "956                              oooo... me llamo vivian\n",
       "957                    ¿de dónde? ¿del coño de tu madre?\n",
       "958                         ah, sí esto podría funcionar\n",
       "Name: Ajustada, Length: 959, dtype: object"
      ]
     },
     "execution_count": 10,
     "metadata": {},
     "output_type": "execute_result"
    }
   ],
   "source": [
    "datos.loc[:, 'Ajustada']"
   ]
  },
  {
   "cell_type": "markdown",
   "metadata": {},
   "source": [
    "Crear una bolsa de palabras"
   ]
  },
  {
   "cell_type": "code",
   "execution_count": 11,
   "metadata": {},
   "outputs": [],
   "source": [
    "from sklearn.feature_extraction.text import CountVectorizer"
   ]
  },
  {
   "cell_type": "code",
   "execution_count": 13,
   "metadata": {
    "scrolled": false
   },
   "outputs": [
    {
     "name": "stdout",
     "output_type": "stream",
     "text": [
      "Vocabulario: {'francamente': 879, 'no': 1433, 'lo': 1253, 'del': 590, 'canadiense': 288, 'por': 1649, 'favor': 860, 'como': 392, 'que': 1731, 'vosotros': 2252, 'os': 1497, 'tiraríais': 2093, 'allí': 76, 'si': 1940, 'pudieseis': 1708, 'tienes': 2086, 'razón': 1774, 'mejor': 1318, 'así': 147, 'te': 2045, 'liberas': 1194, 'de': 558, 'tu': 2138, 'energía': 723, 'nagativa': 1401, 'pues': 1716, 'tú': 2152, 'sabrás': 1856, 'para': 1528, 'mí': 1394, 'fue': 888, 'krieger': 1167, 'qué': 1764, 'un': 2156, 'bebé': 198, 'lando': 1177, 'en': 713, 'serio': 1922, 'randy': 1769, 'creo': 491, 'este': 811, 'deporte': 600, 'le': 1182, 'hizo': 1033, 'algo': 66, 'daño': 557, 'cerebro': 329, 'estáte': 826, 'quieto': 1754, 'esperad': 786, 'ha': 965, 'parecido': 1537, 'archer': 124, 'poco': 1629, 'asustado': 144, 'usted': 2171, 'me': 1314, 'jode': 1127, 'al': 62, 'carajo': 302, 'dios': 645, 'pibe': 1605, 'ya': 2270, 'oigo': 1485, 'claro': 363, 'él': 2278, 'fuma': 896, 'junto': 1155, 'la': 1169, 'niña': 1429, 'decir': 571, 'robotizado': 1835, 'dónde': 691, 'coño': 475, 'has': 1009, 'sacado': 1862, 'una': 2157, 'mano': 1291, 'biónica': 211, 'venga': 2201, 'subid': 1999, 'atrás': 153, 'tengo': 2063, 'avión': 166, 'esperando': 788, 'recordadme': 1784, 'ese': 774, 'desgraciado': 616, 'mata': 1304, 'todos': 2102, 'haga': 995, 'yo': 2271, 'jodas': 1126, 'cyril': 533, 'haces': 991, 'ventana': 2207, 'existe': 841, 'refrán': 1798, 'hindu': 1032, 'dice': 632, 'quien': 1747, 'fundió': 903, 'generó': 922, 'corten': 468, 'perdón': 1592, 'voy': 2254, 'nuevo': 1455, 'intento': 1100, 'deberíamos': 563, 'tener': 2059, 'diez': 635, 'ligas': 1202, 'sarcasmobol': 1892, 'pueden': 1712, 'jugar': 1152, 'ah': 56, 'mierda': 1342, 'es': 757, 'todo': 2101, 'ella': 703, 'muy': 1390, 'bien': 204, 'disculpe': 651, 'ustedes': 2172, 'lucen': 1258, 'geniales': 924, 'wow': 2269, 'juego': 1146, 'genial': 923, 'callas': 275, 'coronel': 464, 'calrissiano': 278, 'importa': 1070, 'oro': 1496, 'quatorce': 1730, 'quilates': 1755, 'con': 415, 'turquesa': 2139, 'diamantes': 630, 'reales': 1776, 'entonces': 737, 'el': 699, 'plan': 1624, 'conway': 456, 'parece': 1533, 'innecesariamente': 1089, 'complicado': 402, 'sabes': 1853, 'intenta': 1093, 'llegar': 1234, 'zona': 2273, 'notación': 1443, 'pero': 1598, 'mucha': 1375, 'amabilidad': 84, 'sí': 2028, 'globo': 932, 'entrenador': 742, 'marsh': 1301, 'ahora': 58, 'hago': 998, 'lógico': 1268, 'han': 1003, 'disparado': 655, 'voto': 2253, 'madre': 1269, 'woodhouse': 2267, 'ocurrido': 1468, 'puedes': 1713, 'dejar': 585, 'ser': 1921, 'sarcástico': 1893, 'oiga': 1483, 'son': 1979, 'necesarias': 1404, 'las': 1178, 'armas': 132, 'pregunto': 1664, 'totalmente': 2116, 'oh': 1482, 'está': 822, 'ocurriendo': 1469, 'siento': 1945, 'chicos': 336, 'mi': 1338, 'papá': 1523, 'ocupado': 1465, 'los': 1257, 'broncos': 232, 'tiene': 2084, 'tiempo': 2081, 'oye': 1505, 'llámame': 1251, 'va': 2175, 'cría': 501, 'crees': 488, 'parecemos': 1534, 'récien': 1845, 'salidos': 1878, 'culebrón': 523, 'brasileño': 224, 'dicho': 634, 'cómo': 541, 'ayudarían': 172, 'sosténes': 1986, 'sombreros': 1977, 'papel': 1522, 'puede': 1711, 'necesitaré': 1409, 'collares': 380, 'brazaletes': 227, 'esmeraldas': 777, 'espera': 785, 'hablas': 974, 'urdu': 2162, 'porque': 1651, 'imbécil': 1065, 'resumiendo': 1818, 'nos': 1440, 'cerrado': 331, 'limusina': 1203, 'narices': 1402, 'eh': 697, 'oigan': 1484, 'puedo': 1714, 'creer': 486, 'practicamos': 1656, 'preparamos': 1671, 'quieren': 1751, 'rendirse': 1810, 'soy': 1988, 'preocupes': 1670, 'haber': 966, 'otro': 1502, 'lugar': 1261, 'donde': 673, 'compren': 410, 'cerca': 328, 'criar': 494, 'hija': 1028, 'estás': 825, 'aquí': 123, 'cuentas': 516, 'cuál': 529, 'misión': 1357, 'esta': 800, 'lana': 1176, 'mira': 1350, 'montar': 1370, 'esto': 813, 'solo': 1975, 'llamara': 1219, 'pidiera': 1608, 'ayuda': 169, 'slater': 1969, 'sangre': 1887, 'falsa': 849, 'pena': 1578, 'da': 543, 'pobre': 1627, 'literalmente': 1212, 'nada': 1399, 'ver': 2210, 'sólo': 2032, 'estoy': 815, 'disfrutando': 653, 'mucho': 1379, 'sarcasmo': 1891, 'debo': 567, 'buscar': 247, 'excusas': 839, 'guardaré': 956, 'después': 623, 'sospechábamos': 1983, 'tres': 2136, 'dólares': 690, 'suelo': 2006, 'mire': 1352, 'uy': 2174, 'estaba': 801, 'haciendo': 993, 'simulacro': 1957, 'les': 1189, 'poniendo': 1647, 'prueba': 1703, 'buen': 235, 'trabajo': 2119, 'cuando': 504, 'agotado': 52, 'único': 2285, 'hace': 983, 'subir': 2000, 'compasión': 397, 'vuelta': 2256, 'campo': 286, 'miren': 1353, 'eso': 778, 'corbata': 460, 'cordón': 463, 'hermosa': 1021, 'stan': 1989, 'muchas': 1378, 'decías': 578, 'acerca': 34, 'vas': 2185, 'mal': 1273, 'equipo': 750, 'tenía': 2067, 'delantera': 591, 'tan': 2037, 'ofensiva': 1473, 'asustó': 146, 'hay': 1011, 'idiotas': 1059, 'hijos': 1030, 'puta': 1722, 'conmigo': 428, 'presidente': 1674, 'brasil': 223, 'su': 1997, 'esposa': 796, 'mirad': 1351, 'sucia': 2002, 'toda': 2098, 'todas': 2099, 'se': 1895, 'producen': 1685, '80': 7, 'accidentes': 30, 'domésticos': 672, 'méxicano': 1393, 'negro': 1418, 'bueno': 238, 'gracias': 939, 'ayudarme': 170, 'pillar': 1615, 'disco': 649, 'rusos': 1844, 'van': 2182, 'dar': 551, 'pasta': 1552, 'ancha': 98, 'importante': 1071, 'isis': 1117, 'podemos': 1631, 'enfestar': 726, 'chupe': 341, 'hacer': 986, 'carambola': 304, 'doctor': 670, 'tendríamos': 2056, 'habernos': 968, 'ido': 1060, 'antes': 103, 'buena': 236, 'esa': 758, 'montado': 1369, 'dispararan': 658, 'oooo': 1492, 'recuerdo': 1788, 'vez': 2223, 'podido': 1633, 'acabado': 22, 'habría': 980, 'visto': 2243, 'sopearte': 1981, 'veinte': 2193, 'copas': 458, 'haría': 1008, 'falta': 851, 'meneara': 1324, 'cierto': 356, 'eric': 755, 'debería': 562, 'mujer': 1384, 'malo': 1282, 'idiota': 1058, 'paquistaní': 1525, 'he': 1016, 'oído': 1506, 'pienso': 1612, 'mover': 1373, 'hasta': 1010, 'pongas': 1646, 'verdad': 2212, 'seguro': 1910, 'secuestrado': 1902, 'más': 1391, 'terraza': 2076, 'iba': 1052, 'excesivo': 835, 'acercarse': 35, 'tendrémos': 2053, 'esfuerzo': 775, 'nuestro': 1450, 'centro': 327, 'cremoso': 490, 'tenemos': 2058, 'adentro': 46, 'encuentra': 721, 'amor': 95, 'felizidad': 866, 'debemos': 560, 'usar': 2168, 'jugadores': 1150, 'amables': 86, 'compasivos': 396, 'mundo': 1388, 'haya': 1012, 'sabrán': 1855, 'caemos': 266, 'fácilmente': 908, 'preocupa': 1665, 'usado': 2165, 'palabra': 1517, 'vida': 2227, 'otras': 1501, 'mesas': 1333, 'practicar': 1657, 'lunes': 1263, 'luego': 1260, 'victoria': 2226, 'cállaos': 535, 'dos': 675, 'aviso': 164, 'navegantes': 1403, 'grande': 942, 'hola': 1036, 'mexicano': 1336, 'jóven': 1159, 'torpe': 2115, 'bellici': 201, 'dijo': 642, 'derrotar': 603, 'duró': 684, 'casi': 319, 'día': 685, 'vale': 2178, 'quisiera': 1758, 'digo': 638, 'estudo': 819, 'mercado': 1331, 'tb': 2044, '800': 8, 'alias': 75, 'ciberosíto': 346, 'peluche': 1576, 'hermana': 1019, 'pierde': 1613, 'creía': 493, 'era': 752, 'racista': 1767, 'seis': 1911, 'mil': 1344, 'pedir': 1566, 'refuerzos': 1799, 'crucial': 497, 'asta': 142, 'ayer': 168, 'baruk': 185, 'ciber': 345, 'espía': 798, 'inteligencia': 1091, 'quere': 1740, 'pasarse': 1550, 'bando': 182, 'abuelo': 19, 'mandaste': 1287, 'seguiste': 1907, 'futbol': 904, 'sus': 2021, 'padre': 1510, 'preocupado': 1668, 'comenzó': 385, 'movimiento': 1374, 'reformar': 1795, 'cientos': 352, 'seguidores': 1905, 'david': 556, 'key': 1165, 'keith': 1162, 'kenny': 1164, 'niño': 1431, 'problema': 1683, 'sistema': 1965, 'equivocado': 751, 'fundimos': 901, 'envían': 747, 'lugares': 1262, 'compra': 403, 'ojalá': 1486, 'siguiera': 1956, 'entre': 739, 'nosotros': 1442, 'podría': 1634, 'parado': 1530, 'algunas': 70, 'balas': 180, 'fin': 869, 'ocho': 1463, 'incluida': 1078, 'hombro': 1038, 'irme': 1115, 'sin': 1958, 'descortéz': 609, 'tenéis': 2066, 'somos': 1978, 'negamos': 1413, 'verdadero': 2214, 'valor': 2180, 'joyas': 1141, 'realidad': 1777, 'mai': 1271, 'pai': 1516, 'pachata': 1508, 'hai': 1001, 'descubra': 611, 'tejido': 2047, 'oso': 1498, 'cubrirlo': 512, 'nuestra': 1448, 'sobre': 1970, 'improvisaciones': 1076, 'hacerte': 990, 'verbo': 2211, 'consiento': 437, 'fastidiarse': 857, 'eres': 754, 'jefe': 1120, 'pueda': 1709, 'romper': 1840, 'maquillaron': 1295, 'cia': 344, 'queda': 1732, 'realista': 1778, 'esas': 759, 'corbatas': 461, 'están': 824, 'moda': 1362, 'suerte': 2007, 'tenerla': 2060, 'decía': 577, 'amaba': 83, 'perro': 1599, 'hico': 1026, 'feliz': 865, 'siempre': 1942, 'murió': 1389, 'quise': 1757, 'ponerme': 1643, 'demasiado': 592, 'triste': 2137, 'pensé': 1585, 'quedaría': 1736, 'caríta': 316, 'alegre': 64, 'cara': 301, 'villy': 2235, 'bolsa': 215, 'ropa': 1843, 'pañales': 1564, 'nevera': 1421, 'leche': 1185, 'materna': 1309, 'excuso': 840, 'tí': 2148, 'gente': 927, 'escuchen': 769, 'deben': 561, 'saber': 1852, 'super': 2017, 'cada': 264, 'país': 1563, 'jugarlo': 1153, 'traidor': 2126, 'hijo': 1029, 'beba': 191, 'trece': 2134, 'archivo': 126, 'servidor': 1925, 'principal': 1681, 'servicio': 1923, 'secreto': 1900, 'argentio': 129, 'apuntado': 119, 'pistola': 1622, 'fui': 894, 'arrancó': 135, 'momento': 1367, 'cuánto': 532, 'pagó': 1515, 'estas': 810, 'hecho': 1017, 'encragaré': 720, 'actor': 40, 'niñera': 1430, 'pasado': 1546, 'vacía': 2176, 'buenas': 237, 'necesitamos': 1408, 'jugo': 1154, 'butters': 250, 'amenaza': 88, 'implicaré': 1068, 'dispararé': 661, 'genitalios': 926, 'sentaré': 1915, 'beber': 195, 'jerez': 1121, 'jamontillado': 1119, 'mientras': 1341, 'desangras': 605, 'ciertamente': 355, 'existen': 842, 'estadísticas': 805, 'interesantes': 1102, 'dan': 549, 'estamos': 806, 'preocupados': 1669, 'relación': 1805, 'directa': 646, 'futból': 905, 'traumas': 2133, 'cráneo': 499, 'casa': 317, 'segura': 1908, 'bebés': 199, 'pam': 1519, 'hmm': 1034, 'seguimos': 1906, 'señor': 1936, 'escuche': 768, 'sé': 2027, 'tremendo': 2135, 'jugador': 1149, 'cosquillas': 471, 'ríe': 1847, 'carácter': 315, 'féliz': 909, 'contentísimo': 444, 'mejoró': 1322, 'contar': 441, 'dices': 633, 'muchachos': 1377, 'posan': 1654, 'maldíta': 1277, 'foto': 877, 'quedará': 1734, 'memoria': 1323, 'aha': 57, 'necesitas': 1410, 'quieres': 1752, 'llamar': 1218, 'vienes': 2232, 'pedirnos': 1567, 'quiero': 1753, 'bebas': 192, 'pidió': 1609, 'vinieramos': 2237, 'rescatarte': 1813, 'estuviera': 821, 'vamos': 2181, 'patear': 1559, 'jugadas': 1148, 'especiales': 783, 'importantes': 1072, 'quiere': 1750, 'luces': 1259, 'kane': 1160, 'sino': 1961, 'cuarto': 507, 'baño': 190, 'cansamos': 294, 'nuestros': 1451, 'niños': 1432, 'golpeen': 934, 'lastimen': 1180, 'hagámos': 999, 'oficial': 1476, 'escuelas': 771, 'azotea': 174, 'primer': 1677, 'sitio': 1966, 'buscarán': 248, 'puñalara': 1726, 'espalda': 780, 'harás': 1006, 'ninguna': 1425, 'tontería': 2112, 'venganza': 2202, 'abra': 11, 'puerta': 1715, 'marchando': 1299, 'empanada': 708, 'familiar': 853, 'martín': 1302, 'decírselo': 579, 'jackson': 1118, 'cree': 484, 'auto': 157, 'regresando': 1803, 'esperamos': 787, 'alegra': 63, 'poder': 1632, 'recibir': 1783, 'comisionato': 391, 'nfl': 1422, 'roger': 1837, 'goodell': 936, 'aburato': 20, 'conmociones': 430, 'año': 176, 'maneja': 1288, 'liga': 1201, 'ibas': 1054, 'convertir': 454, 'robot': 1834, 'unas': 2158, 'veces': 2192, 'rebalsa': 1780, 'intenten': 1099, 'agradecernos': 53, 'clavos': 367, 'decirémos': 576, 'agradezca': 55, 'hicimos': 1025, 'correcto': 465, 'sonreirémos': 1980, 'sentido': 1916, 'aj': 61, 'pasa': 1545, 'vayas': 2188, 'loco': 1254, 'coños': 476, 'acuerdo': 44, 'tienen': 2085, 'acuerdas': 43, 'arrancaste': 134, 'kyle': 1168, 'viernes': 2233, 'noche': 1434, 'aqui': 122, 'todavía': 2100, 'maldítas': 1278, 'animadoras': 101, 'denver': 598, 'regalo': 1801, 'costó': 473, 'dinero': 643, 'gusta': 958, 'aprovechen': 114, 'fuimos': 895, 'india': 1080, 'nunca': 1457, 'había': 982, 'aprendimos': 110, 'negó': 1419, 'rimó': 1828, 'proveyó': 1698, 'lleno': 1236, 'atleta': 149, 'necesita': 1407, 'compromiso': 413, 'camaradería': 280, 'también': 2036, 'viene': 2231, 'vase': 2186, 'litro': 1213, 'mis': 1356, 'compañeros': 399, 'inventaron': 1107, 'llevara': 1243, 'trajera': 2127, 'monstruo': 1368, 'sido': 1941, 'aplauso': 107, 'volveré': 2249, 'usarla': 2169, 'cuesta': 517, 'cinquenta': 361, 'dijeron': 640, 'canal': 290, 'ventas': 2208, 'cámara': 537, 'acorazada': 39, 'reforzada': 1796, 'acceso': 29, 'mediante': 1315, 'tarjeta': 2043, 'escáneo': 773, 'retina': 1819, 'último': 2283, 'piso': 1619, 'sede': 1903, 'fuertemente': 892, 'custodiada': 527, 'puntos': 1719, 'fuerzas': 893, 'órdenes': 2281, 'disparar': 657, 'matar': 1305, 'persona': 1600, 'autorizada': 158, 'fresco': 886, 'pensaba': 1580, 'romperé': 1841, 'cristal': 495, 'porcuro': 1650, 'sorpresas': 1982, 'cero': 330, 'stillers': 1993, 'debe': 559, 'sentir': 1918, 'ganador': 911, 'sácale': 2026, 'ojos': 1488, 'tendríais': 2055, 'supongo': 2019, 'tarde': 2042, 'salirse': 1880, 'suya': 2022, 'stern': 1992, 'poker': 1638, 'violencia': 2240, 'cheryl': 334, 'única': 2284, 'frase': 882, 'cabrón': 263, 'violador': 2238, 'cabras': 260, 'deseado': 613, 'hubiera': 1047, 'regalado': 1800, 'bendíto': 203, 'saca': 1860, 'necesito': 1412, 'cuatrao': 509, 'finde': 870, 'gaylandia': 920, 'sabías': 1859, 'mentía': 1329, 'olvídense': 1491, 'libre': 1195, 'mañana': 1313, 'ni': 1423, 'siquiera': 1963, 'entendemos': 732, 'juega': 1143, 'sucios': 2003, 'traicioneros': 2124, 'dejarme': 588, 'fuera': 890, 'robaron': 1832, 'fórmula': 910, 'intentaron': 1097, 'joderme': 1133, 'significa': 1950, 'sacas': 1867, 'lógica': 1267, 'llamo': 1228, 'resuelven': 1816, 'topo': 2113, 'lleves': 1249, 'franco': 881, 'ésa': 2279, 'llevas': 1247, 'dentro': 597, 'saltar': 1882, 'llevo': 1250, 'paracaigas': 1529, 'acepta': 31, 'idea': 1055, 'paso': 1551, 'cúbreme': 542, 'doy': 676, 'quince': 1756, 'esprema': 797, 'hablo': 978, 'parar': 1532, 'indicado': 1082, 'dije': 639, 'ocurrió': 1471, 'venimos': 2204, 'cosas': 470, 'cogerlas': 374, 'maní': 1294, 'teniendo': 2065, 'sueño': 2008, 'chica': 335, 'puesto': 1717, 'pensarlo': 1584, 'culos': 524, 'ganas': 914, 'salto': 1883, 'oy': 1504, 'maravilloso': 1296, 'pondría': 1640, 'contento': 443, 'quiénes': 1763, 'divertiste': 666, 'dícelo': 687, 'explicar': 844, 'entiendo': 736, 'alguien': 67, 'sinceridad': 1959, 'hablarémos': 973, 'crezcas': 492, 'llevar': 1242, 'saco': 1869, 'símbolo': 2029, 'dólar': 689, 'hablando': 971, 'cago': 270, 'significaba': 1951, 've': 2189, 'aquella': 121, 'burdel': 241, 'carrachi': 309, 'pasó': 1555, 'repente': 1811, 'malísima': 1284, 'peor': 1586, 'quería': 1743, 'podía': 1637, 'fiarme': 867, 'quidaras': 1746, 'controles': 450, 'joder': 1131, 'dudo': 678, 'tenga': 2061, 'bourbon': 222, 'aptece': 116, 'uno': 2160, 'cola': 377, 'menos': 1325, 'malpinas': 1283, 'cielos': 349, 'algúno': 73, 'ocurrir': 1470, 'semejante': 1914, 'podríamos': 1635, 'dejarlo': 587, 'adreza': 48, 'quienquiera': 1748, 'preguntado': 1662, 'golpe': 933, 'recuerdenlo': 1787, 'práctica': 1705, 'unos': 2161, 'kilítos': 1166, 'literalment': 1211, 'miles': 1345, 'darle': 552, 'homófoba': 1040, 'ofrecer': 1478, 'copa': 457, 'tequila': 2069, 'licor': 1199, 'café': 267, 'minuto': 1348, 'pásalo': 1728, 'saluda': 1884, 'animal': 102, 'puñalada': 1725, 'investigaciones': 1110, 'determinen': 625, 'efectos': 696, 'hacemos': 984, 'acompañar': 38, 'familia': 852, 'cena': 324, 'dio': 644, 'costoso': 472, 'aceptarlo': 33, 'prefiero': 1660, 'efectivo': 695, 'bolas': 214, 'chúpalas': 342, 'juegas': 1144, 'duro': 683, 'bebida': 197, 'deportiva': 602, 'deportes': 601, 'hoy': 1046, 'amable': 85, 'mejora': 1319, 'desempeño': 615, 'estarás': 808, 'buenos': 239, 'sentimientos': 1917, 'serás': 1927, 'gentil': 928, 'rayo': 1772, 'sol': 1973, 'sirven': 1964, 'tendría': 2054, 'enviarlo': 745, 'fundidor': 900, 'ocupe': 1466, 'fundir': 902, 'quizás': 1761, 'gane': 915, 'vieja': 2228, 'mismo': 1359, 'perdidio': 1589, 'peso': 1604, 'llames': 1227, 'cabrones': 262, 'violadores': 2239, 'pelo': 1574, 'comodines': 393, 'herir': 1018, 'tus': 2140, 'viviría': 2245, 'padres': 1511, 'refiere': 1793, 'nueve': 1454, 'envidia': 746, 'vergón': 2215, 'parió': 1540, 'ábrelo': 2274, 'armado': 131, 'procura': 1684, 'parecerse': 1536, 'presidencia': 1673, 'parezcas': 1539, 'señora': 1937, 'gordado': 938, 'sufras': 2011, 'jolín': 1138, 'sujetes': 2014, 'carteles': 312, 'compramos': 405, 'compran': 406, 'porquería': 1652, 'sumamos': 2016, 'canales': 291, 'dividimos': 667, 'viejos': 2230, 'mente': 1326, 'harémos': 1007, 'siguiente': 1955, 'consultemos': 439, 'cuija': 522, 'cabeza': 257, 'pagar': 1512, 'pidiendo': 1607, 'maldita': 1275, 'retribución': 1821, 'maldito': 1276, 'busco': 249, 'canguro': 292, 'identificación': 1057, 'llama': 1215, 'operación': 1493, 'quete': 1745, 'gustaría': 962, 'hablar': 972, 'nueva': 1452, 'regla': 1802, 'prohibe': 1690, 'patadas': 1556, 'aún': 178, 'tomemos': 2107, 'fondos': 874, 'investigación': 1111, 'cáncer': 539, 'enfermedades': 725, 'genéticas': 930, 'hagamos': 996, 'comerciales': 387, 'digan': 637, 'espectadores': 784, 'concozco': 418, 'tal': 2035, 'provocar': 1702, 'feas': 861, 'enojemos': 729, 'gruño': 949, 'negativo': 1414, 'creerlo': 487, 'eleve': 702, 'niveles': 1428, 'humanidad': 1050, 'bondad': 216, 'majo': 1272, 'bastante': 187, 'tenías': 2068, 'tirarte': 2092, 'acero': 36, 'comprenlo': 412, 'tomen': 2108, 'vuelve': 2259, 'poner': 1642, 'siete': 1947, 'portado': 1653, 'dado': 545, 'dispararme': 659, 'caso': 320, 'parecen': 1535, 'insultos': 1090, 'multiracial': 1387, 'atención': 148, 'gritan': 945, 'encargados': 717, 'pegas': 1569, 'auténticos': 159, 'disculpas': 650, 'médica': 1392, 'urgencia': 2163, 'culpa': 525, 'cállate': 536, 'sacad': 1861, 'dejadme': 583, 'resto': 1815, 'listo': 1209, 'aprovecha': 111, 'precios': 1659, 'bajos': 179, 'igual': 1061, 'sterling': 1991, 'stanley': 1990, 'busca': 244, 'increíble': 1079, 'nadie': 1400, 'sale': 1875, 'lastimado': 1179, 'aprendiendo': 109, 'lecciones': 1184, 'valiosas': 2179, 'abrazos': 17, 'seguridad': 1909, 'trata': 2132, 'necesario': 1405, 'bigotón': 208, 'cutre': 528, 'conversación': 453, 'sagrado': 1871, 'nosotras': 1441, 'ayudarémos': 171, 'pequeña': 1587, 'cin': 358, 'cuarenta': 506, 'minutos': 1349, 'quién': 1762, 'gustof': 964, 'mío': 1396, 'llamas': 1223, 'di': 629, 'cartman': 313, 'calle': 276, 'sigues': 1954, 'manos': 1292, 'heróico': 1024, 'guardas': 957, 'jodemos': 1129, 'ti': 2080, 'ellos': 705, 'jodiendo': 1134, 'eran': 753, 'botellitas': 220, 'refiero': 1794, 'cuidar': 521, 'masticaras': 1303, 'primero': 1679, 'escupieras': 772, 'boca': 213, 'cierra': 353, 'pico': 1606, 'ponerte': 1644, 'tranquila': 2128, 'beberé': 196, 'ausencia': 156, 'tomo': 2109, 'cíborg': 540, 'clave': 366, 'pipa': 1618, 'hombre': 1037, 'durante': 681, 'siglos': 1949, 'alquimistas': 77, 'intentado': 1094, 'crear': 479, 'pudiera': 1707, 'crearla': 480, 'volvería': 2250, 'rico': 1825, 'equación': 749, 'química': 1765, 'frente': 885, 'skymal': 1967, 'aunque': 155, 'hueca': 1048, 'resulta': 1817, 'conocéis': 434, 'cuestión': 519, 'nuevos': 1456, 'tiempos': 2082, 'ciencia': 351, 'pocos': 1630, 'comprendemos': 411, 'mamada': 1285, 'confiar': 423, 'refería': 1792, 'volar': 2246, 'llega': 1233, 'estrella': 816, 'estó': 828, 'tendrá': 2052, 'resolverlo': 1814, 'grupo': 948, 'negocio': 1416, 'botiquín': 221, 'barra': 184, 'deberías': 565, 'edad': 694, 'molesta': 1366, 'verás': 2219, 'pasarlo': 1549, 'leccion': 1183, 'llamado': 1216, 'contrario': 448, 'hayan': 1013, 'burbón': 240, 'fastidies': 858, 'ay': 167, 'tragado': 2123, 'marcador': 1298, 'stines': 1994, 'avanzan': 160, 'detrás': 626, 'deja': 582, 'gritar': 946, 'dense': 596, 'palmadas': 1518, 'espaldas': 781, 'interior': 1103, 'hablaste': 975, 'creemos': 485, 'seamos': 1897, 'decirme': 574, 'lleva': 1237, 'encima': 718, 'vaya': 2187, 'ridículo': 1827, 'gustan': 959, 'sostenes': 1984, 'mamá': 1286, 'jodía': 1137, 'matemática': 1308, 'disfrutar': 654, 'sea': 1896, 'dame': 547, 'señal': 1934, 'pondré': 1639, 'tío': 2149, 'salid': 1877, 'corriendo': 467, 'buscad': 245, 'ponedlas': 1641, 'salvo': 1886, 'lleguen': 1235, 'jilibollas': 1124, 'informático': 1085, 'identidad': 1056, 'verdadera': 2213, 'agentes': 51, 'operan': 1494, 'sudamérica': 2004, 'argentina': 128, 'usa': 2164, 'presionar': 1675, 'amenazar': 90, 'contárselo': 451, 'exagera': 833, 'enfermedad': 724, 'muchísimo': 1382, 'tirado': 2091, 'cadena': 265, 'comienzan': 389, 'burlarse': 242, 'siendo': 1943, 'pareczo': 1538, 'gorda': 937, 'bikini': 209, 'florecente': 872, 'playa': 1626, 'té': 2146, 'vendría': 2200, 'miel': 1339, 'limón': 1204, 'vuelvas': 2258, 'asustar': 145, 'disparan': 656, 'llévanos': 1252, 'garage': 916, 'llevaré': 1245, 'estabáis': 803, 'conchabados': 417, 'comenzar': 384, 'reunión': 1822, 'maestros': 1270, 'alguién': 68, 'asunto': 143, 'pendiente': 1579, 'normal': 1437, 'hmmm': 1035, 'saldrémos': 1874, 'contra': 447, 'norths': 1439, 'vestidos': 2222, 'south': 1987, 'park': 1541, 'sólidas': 2030, 'averiguarémos': 162, 'domingo': 671, 'pago': 1513, 'nieto': 1424, 'ven': 2195, 'crecido': 482, 'hora': 1041, 'tengas': 2062, 'llamativo': 1224, 'impresionar': 1073, 'muchachas': 1376, 'echar': 692, 'ojo': 1487, 'pasando': 1547, 'deberían': 564, 'avergonzarse': 161, 'explotan': 845, 'atreven': 152, 'aprovecharse': 113, 'afortunados': 50, 'primera': 1678, 'línea': 1266, 'cubrirá': 513, 'huecos': 1049, 'díle': 688, 'uniformes': 2159, 'clyde': 370, 'token': 2103, 'abracen': 12, 'esos': 779, 'caray': 305, 'fallecer': 848, 'serías': 1930, 'tutora': 2141, 'legal': 1187, 'pastel': 1553, 'quizá': 1760, 'pan': 1520, 'definitivamente': 581, 'horneando': 1044, 'hacéis': 994, 'esperé': 795, 'ganando': 913, 'amigos': 92, 'rancasteis': 1768, 'cuenta': 514, 'barbaridades': 183, 'hayas': 1014, 'realmente': 1779, 'contexto': 445, 'prácticamente': 1706, 'medio': 1316, 'cañero': 323, 'tuviera': 2143, 'amenazado': 89, 'encantan': 714, 'noches': 1435, 'empezar': 709, 'guardar': 953, 'pistol': 1621, 'caja': 271, 'fuerte': 891, 'acabe': 24, 'partida': 1543, 'saben': 1851, 'mía': 1395, 'dispararon': 660, 'felices': 862, 'hablemos': 977, 'decirle': 572, 'cosa': 469, 'mate': 1307, 'golpes': 935, 'hable': 976, 'información': 1084, 'sacará': 1866, 'hagámoslo': 1000, 'abrochame': 18, 'sostén': 1985, 'cambios': 284, 'bordado': 218, 'traicionó': 2125, 'aspirante': 141, 'cantante': 295, 'country': 474, 'mentirosa': 1327, 'freelance': 884, 'haz': 1015, 'sacarlo': 1864, 'capital': 299, 'rojo': 1838, 'pensamientos': 1581, 'oblígame': 1460, 'atrapa': 150, 'balón': 181, 'meta': 1334, 'uuh': 2173, 'cal': 272, 'espere': 790, 'algunos': 71, 'ex': 832, 'entrando': 738, 'maritin': 1300, 'gregors': 944, 'defensor': 580, 'jim': 1125, 'harrys': 1004, 'pantalones': 1521, 'tobillos': 2096, 'avisárselo': 165, 'excelente': 834, 'mike': 1343, 'tetfield': 2079, 'estar': 807, 'imaginario': 1064, 'sería': 1929, 'dejarle': 586, 'ciego': 347, 'pobrecito': 1628, 'provienen': 1700, 'felicidad': 863, 'intentan': 1095, 'paralelo': 1531, 'virgen': 2241, 'escansará': 761, 'estemos': 812, 'esclavizados': 763, 'skynet': 1968, 'fuego': 889, 'ejemplo': 698, 'guardadas': 952, 'placer': 1623, 'volver': 2248, 'verte': 2217, 'quedaríamos': 1737, 'cenar': 325, 'comida': 388, 'provoca': 1701, 'diarrea': 631, 'sharon': 1938, 'tenido': 2064, 'lamentamos': 1174, 'queremos': 1741, 'sigas': 1948, 'jugando': 1151, 'algún': 72, 'terminado': 2071, 'archerizar': 125, 'menudo': 1330, 'sabía': 1857, 'pasar': 1548, 'latino': 1181, 'colarnos': 378, 'duelen': 679, 'brazos': 228, 'papás': 1524, 'cremosidad': 489, 'funcionará': 899, 'otra': 1500, 'puñado': 1724, 'vender': 2198, 'tecnología': 2046, 'militar': 1346, 'confidencial': 424, 'chinos': 338, 'líamos': 1264, 'última': 2282, 'trabajamos': 2118, 'juntos': 1156, 'marca': 1297, 'mayor': 1312, 'altura': 79, 'profesionales': 1688, 'invito': 1112, 'lamernos': 1175, 'pelotas': 1575, 'miente': 1340, 'venido': 2203, 'ley': 1192, 'verla': 2216, 'además': 45, 'pegado': 1568, 'tiro': 2094, 'desaparecido': 606, 'llamemos': 1225, 'decirles': 573, 'retiramos': 1820, 'wohoo': 2266, 'confundirme': 427, 'será': 1926, 'rayos': 1773, 'terríble': 2077, 'joden': 1130, 'mujeres': 1385, 'asiáticas': 140, 'vagamente': 2177, 'matas': 1306, 'sientes': 1944, 'cálido': 534, 'compasivo': 395, 'transferencia': 2130, 'prestame': 1676, 'camisa': 285, 'hagas': 997, 'llamen': 1226, 'división': 668, 'tercera': 2070, 'aliado': 74, 'tranquilo': 2129, 'testamento': 2078, 'notaria': 1444, 'abogada': 10, 'laboralista': 1171, 'proteger': 1696, 'ningún': 1427, 'confianza': 422, 'caballeros': 255, 'confunden': 425, 'hospitalidad': 1045, 'debilidad': 566, 'precio': 1658, 'negociar': 1415, 'hacerlo': 988, 'socios': 1971, 'terminar': 2072, 'ray': 1771, 'cánada': 538, 'funciona': 897, 'estúpido': 829, 'salir': 1879, 'programa': 1689, 'conduce': 419, 'veamos': 2190, 'regresemos': 1804, 'amigo': 91, 'encantará': 715, 'llamamos': 1217, 'tono': 2111, 'irónico': 1116, 'robado': 1830, 'amo': 94, 'emocionante': 707, 'extra': 846, 'botella': 219, 'gran': 941, 'sábado': 2025, 'mani': 1290, 'bébe': 253, 'desde': 612, 'promoción': 1693, '2006': 1, 'licencia': 1198, 'conducir': 420, 'vuelvo': 2260, 'llamarás': 1221, 'queríamos': 1744, 'china': 337, 'llevan': 1240, 'años': 177, 'estudiando': 818, 'propulsor': 1695, 'antimatéria': 104, 'demostrando': 594, 'lograr': 1256, 'terminó': 2075, 'líderes': 1265, 'washington': 2265, 'recuerda': 1785, 'hablamos': 970, 'relleno': 1808, 'crece': 481, 'permanente': 1595, 'craqueoso': 478, 'encontrarán': 719, 'yurta': 2272, 'maldíto': 1279, 'multicampo': 1386, 'siesta': 1946, 'adiós': 47, 'robó': 1836, 'estableció': 802, 'europa': 830, 'traficante': 2122, 'perfil': 1594, 'caballero': 254, 'entiende': 734, 'juro': 1157, 'vuelva': 2257, 'pillarte': 1616, 'deseas': 614, 'cielo': 348, 'santo': 1889, 'encantaría': 716, 'ancianos': 99, 'linda': 1205, 'corbatíta': 462, 'cilo': 357, 'televisión': 2048, 'mmm': 1361, 'guapa': 951, 'relleníta': 1809, 'entregarte': 741, 'cascos': 318, 'aluminio': 80, 'futuro': 906, 'bárbaros': 251, 'básicamente': 252, 'matáis': 1311, 'otros': 1503, 'shelly': 1939, 'alguna': 69, 'conté': 452, 'tuve': 2142, 'pastor': 1554, 'escocés': 764, 'paties': 1560, 'levanta': 1190, 'puto': 1723, 'cartél': 314, 'quedarás': 1735, 'habitación': 969, 'pensando': 1582, 'acabas': 23, 'quiera': 1749, 'modificando': 1363, 'puedas': 1710, 'pensar': 1583, 'bebemos': 194, 'espermas': 792, 'homofóbico': 1039, 'chovinista': 340, 'completamete': 401, 'inmaduro': 1088, 'pregunta': 1661, 'cantidades': 296, 'enormes': 730, 'mostrar': 1371, 'apoyo': 108, 'modo': 1364, 'mejorarlo': 1321, 'usan': 2166, '24': 3, 'horas': 1042, 'cierrate': 354, 'generoso': 921, 'producto': 1686, 'número': 1458, '4568111': 6, 'estos': 814, 'imponentes': 1069, 'aretes': 127, 'faux': 859, 'genuinos': 929, 'cuatorce': 508, 'safiros': 1870, 'ochenta': 1462, 'francesa': 880, 'pronuncia': 1694, 'perstigioso': 1602, 'cuestan': 518, 'millones': 1347, 'vendemos': 2196, 'teléfonos': 2049, 'iluminarse': 1063, 'comprador': 404, 'pongamoslo': 1645, 'gusto': 963, 'comprará': 409, 'paquistán': 1526, 'interpretar': 1105, 'himno': 1031, 'bienvenidos': 207, 'inaugural': 1077, 'nacional': 1398, 'enfrentamiento': 727, 'riders': 1826, 'oakland': 1459, 'pateamos': 1558, 'protesto': 1697, 'término': 2147, 'claramente': 362, 'preocupación': 1666, 'advierto': 49, 'peligroso': 1573, 'figuro': 868, 'mato': 1310, 'gicante': 931, 'cambiará': 282, 'selector': 1912, 'mega': 1317, 'preocupada': 1667, 'llamaría': 1222, 'éxito': 2280, 'relativo': 1807, 'cuentan': 515, 'cambio': 283, 'cubierto': 511, 'conductos': 421, 'aire': 59, 'siguen': 1953, 'gas': 917, 'nervioso': 1420, 'estuve': 820, 'mirándolo': 1355, 'siquera': 1962, 'hacen': 985, 'burrito': 243, 'capas': 297, 'basa': 186, 'camradería': 287, 'miro': 1354, 'vestidor': 2221, 'veo': 2209, 'compasíbles': 398, 'conocido': 433, 'ken': 1163, 'cualquiera': 503, 'abrazas': 16, 'ir': 1113, 'armería': 133, 'véte': 2263, 'leído': 1193, 'libros': 1197, 'club': 369, 'canguros': 293, 'blindado': 212, 'sigo': 1952, 'cargar': 307, 'aubuelo': 154, 'gastaste': 919, 'streling': 1995, 'ascani': 137, 'motél': 1372, 'váter': 2262, 'cargando': 306, 'sevidor': 1933, 'distinguir': 664, 'craig': 477, 'apuesto': 117, 'extrañará': 847, 'perder': 1588, 'bebe': 193, 'ofrezco': 1481, 'falsos': 850, 'darte': 554, 'carajos': 303, 'semana': 1913, 'acaba': 21, 'pido': 1610, 'desintoxicándose': 617, 'prometer': 1691, 'igualíto': 1062, 'cristi': 496, 'toquecíto': 2114, 'claudia': 364, 'tienda': 2083, 'asiática': 139, 'joderla': 1132, 'jodedor': 1128, 'broma': 230, 'días': 686, 'libres': 1196, 'anuales': 105, 'suelen': 2005, 'dejado': 584, 'recuperar': 1790, 'odia': 1472, 'partir': 1544, 'capitán': 300, 'rondie': 1842, 'ayúdame': 173, 'quede': 1738, 'licores': 1200, 'veas': 2191, 'empleado': 712, 'vendrá': 2199, 'avisarme': 163, 'secas': 1899, 'perdona': 1591, 'ves': 2220, 'vivian': 2244, 'comunicamos': 414, 'representante': 1812, 'saludarás': 1885, 'comprar': 407, 'felicitaciones': 864, 'robo': 1833, 'cabrearme': 261, 'rato': 1770, 'recuerdas': 1786, 'crédito': 500, 'justo': 1158, 'payton': 1562, 'mejorar': 1320, 'sabor': 1854, 'humo': 1051, 'cloro': 368, 'réplica': 1846, 'rey': 1824, 'enrique': 731, 'grite': 947, 'perdido': 1590, 'intente': 1098, 'patos': 1561, 'jodiéndola': 1135, 'sabe': 1849, 'dobles': 669, 'cartas': 310, 'sangrientas': 1888, 'jordana': 1139, 'laboral': 1170, 'sesiones': 1931, 'interrupciones': 1106, 'cagar': 269, 'excusa': 837, 'escoria': 766, 'víctimas': 2264, 'venta': 2206, 'descansan': 607, 'mansiones': 1293, 'ganan': 912, 'billones': 210, 'cinco': 359, 'hacerle': 987, 'pruebas': 1704, 'reemplazar': 1791, 'atrape': 151, 'correrá': 466, 'abrazan': 14, 'sujeto': 2015, 'timarnos': 2087, 'lado': 1173, 'traer': 2121, 'cerveza': 333, 'varias': 2183, 'sacamos': 1863, 'secuencia': 1901, 'datos': 555, 'esmeralda': 776, 'preguntas': 1663, 'sentiría': 1919, 'recuerdos': 1789, 'ninguno': 1426, 'familiares': 854, 'sufriendo': 2012, 'alzheimer': 82, 'comisionado': 390, 'entusiasma': 744, 'joventud': 1140, 'tradicional': 2120, 'detenernos': 624, 'cambiar': 281, 'demos': 593, 'bienvenida': 205, 'hambre': 1002, 'tipi': 2089, 'bienvenido': 206, 'despeto': 620, 'verá': 2218, 'evitar': 831, 'intermediarios': 1104, 'comprarles': 408, 'directamente': 647, 'puñalarme': 1727, 'empiezo': 711, 'cabra': 259, 'tíos': 2150, 'imbéciles': 1066, 'acaso': 27, 'fanático': 855, 'temas': 2050, 'prometo': 1692, 'piensas': 1611, 'seaís': 1898, 'dama': 546, 'brasilia': 225, 'visita': 2242, 'américa': 96, 'voluntad': 2247, 'sedes': 1904, 'servicios': 1924, 'trabaja': 2117, 'tapadera': 2041, 'clavado': 365, 'llamarlos': 1220, 'muchos': 1380, 'tantos': 2039, 'cuanto': 505, 'escapan': 762, 'durmiendo': 682, 'especial': 782, 'sueños': 2009, 'hermosos': 1022, 'despierto': 621, 'salió': 1881, 'aseguro': 138, 'guardarla': 954, 'quedo': 1739, 'abastecido': 9, 'desangrando': 604, 'callados': 274, 'esperma': 791, 'timó': 2088, 'lleve': 1248, 'acceder': 28, 'ordenador': 1495, 'central': 326, 'escuela': 770, 'peligrosas': 1572, 'mali': 1280, 'deciendo': 570, 'lindas': 1206, 'malin': 1281, 'woodly': 2268, 'entrega': 740, 'árbitro': 2275, 'decide': 568, 'señala': 1935, 'punto': 1718, 'gustarán': 961, 'elección': 700, 'mes': 1332, 'estáis': 823, 'strip': 1996, 'salchicha': 1872, 'dura': 680, 'flecha': 871, 'podrías': 1636, 'conseguido': 435, 'venir': 2205, 'collar': 379, 'esqueleto': 799, 'acabó': 26, 'olvidarme': 1489, 'personas': 1601, 'juegen': 1145, 'terminen': 2074, 'abrazar': 15, 'lindo': 1207, 'confundido': 426, 'cojones': 375, 'cogerla': 373, 'oferta': 1474, 'acabo': 25, 'despechada': 618, 'despeché': 619, 'vimos': 2236, 'bromista': 231, 'real': 1775, 'entiendes': 735, 'sola': 1974, 'jodo': 1136, 'cuatro': 510, 'querré': 1742, 'tóma': 2151, 'actos': 41, 'estudian': 817, 'cojínes': 376, 'sofá': 1972, 'estado': 804, 'sufro': 2013, 'conmoción': 431, 'infierno': 1083, 'conoce': 432, 'ira': 1114, 'cruzado': 498, 'río': 1848, 'cerramos': 332, 'aquel': 120, 'tipo': 2090, 'tuya': 2144, 'brújula': 234, 'amistad': 93, 'tuyos': 2145, 'área': 2277, 'indica': 1081, 'apunta': 118, 'hacia': 992, 'arriba': 136, 'jesús': 1122, 'corazón': 459, 'emociona': 706, 'formar': 875, 'parte': 1542, 'llevaría': 1246, 'recargando': 1781, 'voz': 2255, 'alta': 78, 'fácil': 907, 'viejo': 2229, 'patches': 1557, 'usas': 2170, 'sacaste': 1868, 'supergay': 2018, 'pagué': 1514, 'ocurren': 1467, 'cuántas': 531, 'tocado': 2097, 'cabecíta': 256, 'castaña': 321, 'molar': 1365, 'sesos': 1932, 'escaleras': 760, 'color': 382, 'haberle': 967, 'contado': 440, 'despistar': 622, 'calor': 277, 'eráis': 756, 'hermosura': 1023, 'toman': 2104, 'fotos': 878, 'escolares': 765, 'culpable': 526, 'intención': 1092, 'terminarse': 2073, 'cuándo': 530, 'ello': 704, 'deje': 589, 'seré': 1928, 'pedido': 1565, 'relajar': 1806, 'uah': 2153, 'recibe': 1782, '37': 4, '15': 0, 'divertido': 665, 'economía': 693, 'excusado': 838, 'prioridad': 1682, 'decidíamos': 569, 'creciente': 483, 'kay': 1161, 'dispares': 662, 'ten': 2051, 'cuidado': 520, 'encuentren': 722, 'saquen': 1890, 'quítate': 1766, 'chisme': 339, 'apta': 115, 'ocultarlo': 1464, 'escuchar': 767, 'darme': 553, 'cochecíto': 371, 'puse': 1720, 'llamó': 1230, 'peletero': 1571, 'roba': 1829, 'descaradamente': 608, 'llamé': 1229, 'imigración': 1067, 'intentar': 1096, 'deportaran': 599, 'quedaba': 1733, 'hielo': 1027, 'positivo': 1655, 'abracense': 13, 'calla': 273, 'llevando': 1241, 'cabo': 258, 'oídos': 1507, 'perfecto': 1593, 'llevaba': 1238, 'varios': 2184, 'tiros': 2095, 'sabían': 1858, 'habrá': 979, 'fascinante': 856, 'continúe': 446, 'conseguir': 436, 'apellido': 106, 'azúcar': 175, 'mala': 1274, 'pinta': 1617, 'preparas': 1672, 'platos': 1625, 'demás': 595, 'necesidad': 1406, 'contarle': 442, 'sucedido': 2001, 'entendido': 733, 'tac': 2033, 'bell': 200, 'doritos': 674, 'locos': 1255, 'tacos': 2034, 'ofrece': 1477, 'cien': 350, 'grandes': 943, 'quitado': 1759, 'dando': 550, 'salchichas': 1873, 'comer': 386, 'buscando': 246, 'llaves': 1232, 'detuvo': 627, '45': 5, 'lentamente': 1188, 'habrías': 981, 'ocasión': 1461, 'enmendarlo': 728, 'frecuente': 883, 'improbable': 1074, '23': 2, 'lexington': 1191, 'tome': 2106, 'batido': 188, 'caña': 322, 'nube': 1447, 'veímos': 2225, 'suéltalas': 2024, 'mitade': 1360, 'transmisión': 2131, 'aprovechar': 112, 'ofertas': 1475, 'alegría': 65, 'volvió': 2251, 'sarcásticos': 1894, 'difícil': 636, 'disfrutamos': 652, 'tanto': 2038, 'competitividad': 400, 'compasiva': 394, 'sincero': 1960, 'reventa': 1823, 'consigo': 438, 'suficientes': 2010, 'suyas': 2023, 'coge': 372, 'necesites': 1411, 'pilas': 1614, 'nuevas': 1453, 'sacarte': 1865, 'espero': 793, 'misma': 1358, 'contratado': 449, 'permiteme': 1596, 'agradecerte': 54, 'tomar': 2105, 'amamos': 87, 'convertirlo': 455, 'pesadilla': 1603, 'diré': 648, 'formas': 876, 'usando': 2167, 'colocar': 381, 'ultramoderna': 2155, 'sepa': 1920, 'inventó': 1109, 'manera': 1289, 'entrenarlos': 743, 'sube': 1998, 'árbitros': 2276, 'arma': 130, 'robando': 1831, 'descubierto': 610, 'cagando': 268, 'leches': 1186, 'muchísimas': 1381, 'litros': 1214, 'mexicanos': 1337, 'negors': 1417, 'actuante': 42, 'conmocionado': 429, 'tendrían': 2057, 'pisos': 1620, 'nombre': 1436, 'empeño': 710, 'cuadras': 502, 'cartel': 311, 'uh': 2154, 'iban': 1053, 'elegir': 701, 'ponle': 1648, 'infromación': 1086, 'tomándose': 2110, 'profesional': 1687, 'decirte': 575, 'hará': 1005, 'cargo': 308, 'veía': 2224, 'veintiquatro': 2194, 'duda': 677, 'salgan': 1876, 'bret': 229, 'llave': 1231, 'analogía': 97, 'hacernos': 989, 'aceptamos': 32, 'gramo': 940, 'grámos': 950, 'pérdida': 1729, 'ofrecerte': 1479, 'gastar': 918, 'jubilación': 1142, 'frivolidades': 887, 'guardarlo': 955, 'mueras': 1383, 'mentiste': 1328, 'dijiste': 641, 'primo': 1680, 'diste': 663, 'daba': 544, 'pego': 1570, 'metería': 1335, 'brazaleta': 226, 'tanzanita': 2040, 'noventa': 1446, 'permiten': 1597, 'jueguen': 1147, 'genios': 925, 'come': 383, 'sólidos': 2031, 'browns': 233, 'listos': 1210, 'batir': 189, 'par': 1527, 'novatos': 1445, 'experiencia': 843, 'lineación': 1208, 'inicial': 1087, 'sabemos': 1850, 'aires': 60, 'rome': 1839, 'esperar': 789, 'interesante': 1101, 'acompaña': 37, 'inventor': 1108, 'estés': 827, 'vuélvete': 2261, 'canadá': 289, 'ben': 202, 'jhonsson': 1123, 'fondo': 873, 'pusiste': 1721, 'pelígro': 1577, 'ofrecerías': 1480, 'improvisable': 1075, 'exceso': 836, 'andabamos': 100, 'laboratorio': 1172, 'estaré': 809, 'móvil': 1397, 'capaz': 298, 'osíto': 1499, 'north': 1438, 'llevarse': 1244, 'llevamos': 1239, 'enémigo': 748, 'devolvemos': 628, 'calvos': 279, 'damos': 548, 'chúpamela': 343, 'soluciona': 1976, 'hermanita': 1020, 'boom': 217, 'vieron': 2234, 'alumnos': 81, 'gustará': 960, 'paciente': 1509, 'cincuenta': 360, 'esperándome': 794, 'olvidémonos': 1490, 'concentrémonos': 416, 'supuestos': 2020, 'horatio': 1043, 'venden': 2197, 'nuestras': 1449, 'proviene': 1699, 'refranes': 1797, 'funcionar': 898}\n",
      "Representación Ajustada':  [[0 0 0 ... 0 0 0]]\n"
     ]
    }
   ],
   "source": [
    "count_vect = CountVectorizer()\n",
    "bow_rep = count_vect.fit_transform(datos['Ajustada'].values)\n",
    "\n",
    "print(f\"Vocabulario: {count_vect.vocabulary_}\")\n",
    "\n",
    "print(\"Representación Ajustada': \", bow_rep[0].toarray())\n"
   ]
  },
  {
   "cell_type": "code",
   "execution_count": 126,
   "metadata": {},
   "outputs": [
    {
     "data": {
      "text/plain": [
       "2286"
      ]
     },
     "execution_count": 126,
     "metadata": {},
     "output_type": "execute_result"
    }
   ],
   "source": [
    "len(count_vect.vocabulary_)"
   ]
  },
  {
   "cell_type": "markdown",
   "metadata": {},
   "source": [
    " ¿En qué casos es buena idea tomar en la cuenta la frecuencia de las palabras para la bolsa de palabras?\n"
   ]
  },
  {
   "cell_type": "code",
   "execution_count": null,
   "metadata": {},
   "outputs": [],
   "source": [
    "Cuando queremos evaluar las palabras más usuales, ya que nos permite identificar y mapear todo el conjunto de información. "
   ]
  }
 ],
 "metadata": {
  "kernelspec": {
   "display_name": "Python 3",
   "language": "python",
   "name": "python3"
  },
  "language_info": {
   "codemirror_mode": {
    "name": "ipython",
    "version": 3
   },
   "file_extension": ".py",
   "mimetype": "text/x-python",
   "name": "python",
   "nbconvert_exporter": "python",
   "pygments_lexer": "ipython3",
   "version": "3.7.4"
  }
 },
 "nbformat": 4,
 "nbformat_minor": 2
}
